{
 "cells": [
  {
   "cell_type": "markdown",
   "metadata": {},
   "source": [
    "# Introductory applied machine learning (INFR10069) "
   ]
  },
  {
   "cell_type": "markdown",
   "metadata": {},
   "source": [
    "# Lab 2: Decision trees and linear regression"
   ]
  },
  {
   "cell_type": "markdown",
   "metadata": {},
   "source": [
    "In the first part of this lab we perform Decision trees classification on the [German credit](http://archive.ics.uci.edu/ml/datasets/Statlog+%28German+Credit+Data%29) data set. In the second part we learn how to train simple linear regression model by using the [CPU performance](https://archive.ics.uci.edu/ml/datasets/Computer+Hardware) data set. Both datasets (`credit.csv` and `cpu.csv`) are located within the `datasets` directory (adjacent to this file)."
   ]
  },
  {
   "cell_type": "markdown",
   "metadata": {},
   "source": [
    "As always, first activate the python environment if not already done so (remember to exclude 'source' if you're on windows):"
   ]
  },
  {
   "cell_type": "markdown",
   "metadata": {},
   "source": [
    "```{bash}\n",
    "source activate py3iaml\n",
    "```"
   ]
  },
  {
   "cell_type": "markdown",
   "metadata": {},
   "source": [
    "Now let's import the packages (*This will generate some warnings related to the libraries: ignore*):"
   ]
  },
  {
   "cell_type": "code",
   "execution_count": 1,
   "metadata": {},
   "outputs": [],
   "source": [
    "# Import packages\n",
    "import os\n",
    "import numpy as np \n",
    "import pandas as pd\n",
    "import matplotlib.pyplot as plt\n",
    "import seaborn as sns\n",
    "import graphviz\n",
    "from sklearn.model_selection import train_test_split\n",
    "from sklearn.linear_model import LinearRegression\n",
    "from sklearn.tree import DecisionTreeClassifier, export_graphviz\n",
    "from sklearn.ensemble import RandomForestClassifier\n",
    "from sklearn.metrics import accuracy_score, confusion_matrix, r2_score\n",
    "%matplotlib inline"
   ]
  },
  {
   "cell_type": "markdown",
   "metadata": {},
   "source": [
    "## 1. Decision Trees\n",
    "One of the great advantages of decision trees is their interpretability. The rules learnt for classification are easy for a person to follow, unlike the opaque \"black box\" of many other methods, such as neural networks. We demonstrate the utility of this using a German credit data set. You can read a description of this dataset at the [UCI site](http://archive.ics.uci.edu/ml/datasets/Statlog+%28German+Credit+Data%29). The task is to predict whether a loan approval is good or bad credit risk based on 20 attributes. We've simplified the data set somewhat, particularly making attribute names and values more meaningful."
   ]
  },
  {
   "cell_type": "markdown",
   "metadata": {
    "collapsed": true
   },
   "source": [
    "We will load the credit dataset into a pandas DataFrame structure. "
   ]
  },
  {
   "cell_type": "code",
   "execution_count": 2,
   "metadata": {},
   "outputs": [],
   "source": [
    "# Load the dataset\n",
    "data_path = os.path.join(os.getcwd(), 'datasets', 'credit.csv')\n",
    "credit = pd.read_csv(data_path, delimiter = ',')"
   ]
  },
  {
   "cell_type": "markdown",
   "metadata": {},
   "source": [
    "### ========== Question 1.1 ==========\n",
    "Display the number of data points and attributes in the dataset. "
   ]
  },
  {
   "cell_type": "code",
   "execution_count": 13,
   "metadata": {},
   "outputs": [
    {
     "name": "stdout",
     "output_type": "stream",
     "text": [
      "Number of data points:  1001  \n",
      "Number of attributes:  21\n"
     ]
    }
   ],
   "source": [
    "# Your Code goes here:\n",
    "print( \"Number of data points: \", credit.shape[0], \" \\nNumber of attributes: \", (credit.shape[1]))"
   ]
  },
  {
   "cell_type": "markdown",
   "metadata": {},
   "source": [
    "### ========== Question 1.2 ==========\n",
    "Get a feeling of the data by using pandas `describe()` method. Be careful - there is a mixture of numeric and categorical data and hence will need to output it in two stages:"
   ]
  },
  {
   "cell_type": "code",
   "execution_count": 12,
   "metadata": {},
   "outputs": [
    {
     "data": {
      "text/html": [
       "<div>\n",
       "<style scoped>\n",
       "    .dataframe tbody tr th:only-of-type {\n",
       "        vertical-align: middle;\n",
       "    }\n",
       "\n",
       "    .dataframe tbody tr th {\n",
       "        vertical-align: top;\n",
       "    }\n",
       "\n",
       "    .dataframe thead th {\n",
       "        text-align: right;\n",
       "    }\n",
       "</style>\n",
       "<table border=\"1\" class=\"dataframe\">\n",
       "  <thead>\n",
       "    <tr style=\"text-align: right;\">\n",
       "      <th></th>\n",
       "      <th>Duration</th>\n",
       "      <th>CreditAmount</th>\n",
       "      <th>InstallmentRate</th>\n",
       "      <th>ResidentSince</th>\n",
       "      <th>Age</th>\n",
       "      <th>NumCreditsAtBank</th>\n",
       "      <th>Dependents</th>\n",
       "    </tr>\n",
       "  </thead>\n",
       "  <tbody>\n",
       "    <tr>\n",
       "      <th>count</th>\n",
       "      <td>1001.000000</td>\n",
       "      <td>1.001000e+03</td>\n",
       "      <td>1001.000000</td>\n",
       "      <td>1001.000000</td>\n",
       "      <td>1001.000000</td>\n",
       "      <td>1001.000000</td>\n",
       "      <td>1001.000000</td>\n",
       "    </tr>\n",
       "    <tr>\n",
       "      <th>mean</th>\n",
       "      <td>20.882118</td>\n",
       "      <td>-9.957330e+05</td>\n",
       "      <td>-7.019980</td>\n",
       "      <td>2.842158</td>\n",
       "      <td>35.217782</td>\n",
       "      <td>0.406593</td>\n",
       "      <td>0.969031</td>\n",
       "    </tr>\n",
       "    <tr>\n",
       "      <th>std</th>\n",
       "      <td>12.070878</td>\n",
       "      <td>3.160708e+07</td>\n",
       "      <td>316.165715</td>\n",
       "      <td>1.106825</td>\n",
       "      <td>15.398264</td>\n",
       "      <td>31.656714</td>\n",
       "      <td>5.894916</td>\n",
       "    </tr>\n",
       "    <tr>\n",
       "      <th>min</th>\n",
       "      <td>0.000000</td>\n",
       "      <td>-1.000000e+09</td>\n",
       "      <td>-10000.000000</td>\n",
       "      <td>0.000000</td>\n",
       "      <td>-293.000000</td>\n",
       "      <td>-1000.000000</td>\n",
       "      <td>-185.000000</td>\n",
       "    </tr>\n",
       "    <tr>\n",
       "      <th>25%</th>\n",
       "      <td>12.000000</td>\n",
       "      <td>1.364000e+03</td>\n",
       "      <td>2.000000</td>\n",
       "      <td>2.000000</td>\n",
       "      <td>27.000000</td>\n",
       "      <td>1.000000</td>\n",
       "      <td>1.000000</td>\n",
       "    </tr>\n",
       "    <tr>\n",
       "      <th>50%</th>\n",
       "      <td>18.000000</td>\n",
       "      <td>2.319000e+03</td>\n",
       "      <td>3.000000</td>\n",
       "      <td>3.000000</td>\n",
       "      <td>33.000000</td>\n",
       "      <td>1.000000</td>\n",
       "      <td>1.000000</td>\n",
       "    </tr>\n",
       "    <tr>\n",
       "      <th>75%</th>\n",
       "      <td>24.000000</td>\n",
       "      <td>3.972000e+03</td>\n",
       "      <td>4.000000</td>\n",
       "      <td>4.000000</td>\n",
       "      <td>42.000000</td>\n",
       "      <td>2.000000</td>\n",
       "      <td>1.000000</td>\n",
       "    </tr>\n",
       "    <tr>\n",
       "      <th>max</th>\n",
       "      <td>72.000000</td>\n",
       "      <td>1.842400e+04</td>\n",
       "      <td>4.000000</td>\n",
       "      <td>4.000000</td>\n",
       "      <td>75.000000</td>\n",
       "      <td>4.000000</td>\n",
       "      <td>2.000000</td>\n",
       "    </tr>\n",
       "  </tbody>\n",
       "</table>\n",
       "</div>"
      ],
      "text/plain": [
       "          Duration  CreditAmount  InstallmentRate  ResidentSince          Age  \\\n",
       "count  1001.000000  1.001000e+03      1001.000000    1001.000000  1001.000000   \n",
       "mean     20.882118 -9.957330e+05        -7.019980       2.842158    35.217782   \n",
       "std      12.070878  3.160708e+07       316.165715       1.106825    15.398264   \n",
       "min       0.000000 -1.000000e+09    -10000.000000       0.000000  -293.000000   \n",
       "25%      12.000000  1.364000e+03         2.000000       2.000000    27.000000   \n",
       "50%      18.000000  2.319000e+03         3.000000       3.000000    33.000000   \n",
       "75%      24.000000  3.972000e+03         4.000000       4.000000    42.000000   \n",
       "max      72.000000  1.842400e+04         4.000000       4.000000    75.000000   \n",
       "\n",
       "       NumCreditsAtBank   Dependents  \n",
       "count       1001.000000  1001.000000  \n",
       "mean           0.406593     0.969031  \n",
       "std           31.656714     5.894916  \n",
       "min        -1000.000000  -185.000000  \n",
       "25%            1.000000     1.000000  \n",
       "50%            1.000000     1.000000  \n",
       "75%            2.000000     1.000000  \n",
       "max            4.000000     2.000000  "
      ]
     },
     "execution_count": 12,
     "metadata": {},
     "output_type": "execute_result"
    }
   ],
   "source": [
    "# Output Numeric Data\n",
    "# Your Code goes here:\n",
    "credit.describe(include=[np.number])"
   ]
  },
  {
   "cell_type": "code",
   "execution_count": 11,
   "metadata": {},
   "outputs": [
    {
     "data": {
      "text/html": [
       "<div>\n",
       "<style scoped>\n",
       "    .dataframe tbody tr th:only-of-type {\n",
       "        vertical-align: middle;\n",
       "    }\n",
       "\n",
       "    .dataframe tbody tr th {\n",
       "        vertical-align: top;\n",
       "    }\n",
       "\n",
       "    .dataframe thead th {\n",
       "        text-align: right;\n",
       "    }\n",
       "</style>\n",
       "<table border=\"1\" class=\"dataframe\">\n",
       "  <thead>\n",
       "    <tr style=\"text-align: right;\">\n",
       "      <th></th>\n",
       "      <th>CheckingAccount</th>\n",
       "      <th>CreditHistory</th>\n",
       "      <th>Purpose</th>\n",
       "      <th>SavingsAccount</th>\n",
       "      <th>YearsEmployed</th>\n",
       "      <th>PersonalStatus</th>\n",
       "      <th>OtherDebtors</th>\n",
       "      <th>Property</th>\n",
       "      <th>OtherPlans</th>\n",
       "      <th>Housing</th>\n",
       "      <th>Job</th>\n",
       "      <th>Telephone</th>\n",
       "      <th>Foreign</th>\n",
       "      <th>Approve</th>\n",
       "    </tr>\n",
       "  </thead>\n",
       "  <tbody>\n",
       "    <tr>\n",
       "      <th>count</th>\n",
       "      <td>1001</td>\n",
       "      <td>1001</td>\n",
       "      <td>1001</td>\n",
       "      <td>1001</td>\n",
       "      <td>1001</td>\n",
       "      <td>1001</td>\n",
       "      <td>1001</td>\n",
       "      <td>1001</td>\n",
       "      <td>1001</td>\n",
       "      <td>1001</td>\n",
       "      <td>1001</td>\n",
       "      <td>1001</td>\n",
       "      <td>1001</td>\n",
       "      <td>1001</td>\n",
       "    </tr>\n",
       "    <tr>\n",
       "      <th>unique</th>\n",
       "      <td>4</td>\n",
       "      <td>5</td>\n",
       "      <td>10</td>\n",
       "      <td>5</td>\n",
       "      <td>5</td>\n",
       "      <td>5</td>\n",
       "      <td>3</td>\n",
       "      <td>4</td>\n",
       "      <td>3</td>\n",
       "      <td>3</td>\n",
       "      <td>4</td>\n",
       "      <td>2</td>\n",
       "      <td>2</td>\n",
       "      <td>2</td>\n",
       "    </tr>\n",
       "    <tr>\n",
       "      <th>top</th>\n",
       "      <td>none</td>\n",
       "      <td>ok_til_now</td>\n",
       "      <td>television</td>\n",
       "      <td>&lt;100</td>\n",
       "      <td>&lt;4</td>\n",
       "      <td>male_single</td>\n",
       "      <td>none</td>\n",
       "      <td>car</td>\n",
       "      <td>none</td>\n",
       "      <td>own</td>\n",
       "      <td>skilled</td>\n",
       "      <td>no</td>\n",
       "      <td>yes</td>\n",
       "      <td>good</td>\n",
       "    </tr>\n",
       "    <tr>\n",
       "      <th>freq</th>\n",
       "      <td>394</td>\n",
       "      <td>530</td>\n",
       "      <td>280</td>\n",
       "      <td>603</td>\n",
       "      <td>339</td>\n",
       "      <td>548</td>\n",
       "      <td>908</td>\n",
       "      <td>333</td>\n",
       "      <td>815</td>\n",
       "      <td>714</td>\n",
       "      <td>631</td>\n",
       "      <td>596</td>\n",
       "      <td>963</td>\n",
       "      <td>701</td>\n",
       "    </tr>\n",
       "  </tbody>\n",
       "</table>\n",
       "</div>"
      ],
      "text/plain": [
       "       CheckingAccount CreditHistory     Purpose SavingsAccount YearsEmployed  \\\n",
       "count             1001          1001        1001           1001          1001   \n",
       "unique               4             5          10              5             5   \n",
       "top               none    ok_til_now  television           <100            <4   \n",
       "freq               394           530         280            603           339   \n",
       "\n",
       "       PersonalStatus OtherDebtors Property OtherPlans Housing      Job  \\\n",
       "count            1001         1001     1001       1001    1001     1001   \n",
       "unique              5            3        4          3       3        4   \n",
       "top       male_single         none      car       none     own  skilled   \n",
       "freq              548          908      333        815     714      631   \n",
       "\n",
       "       Telephone Foreign Approve  \n",
       "count       1001    1001    1001  \n",
       "unique         2       2       2  \n",
       "top           no     yes    good  \n",
       "freq         596     963     701  "
      ]
     },
     "execution_count": 11,
     "metadata": {},
     "output_type": "execute_result"
    }
   ],
   "source": [
    "# Output Categorical Data\n",
    "# Your Code goes here:\n",
    "credit.describe(include=[object])"
   ]
  },
  {
   "cell_type": "markdown",
   "metadata": {},
   "source": [
    "### ========== Question 1.3 ==========\n",
    "Display the first 10 data points of the dataset\n",
    "\n",
    "*TIP*: You may need to set the option to display all columns: look at [pandas.set_option](https://pandas.pydata.org/pandas-docs/version/1.3.1/reference/api/pandas.set_option.html)."
   ]
  },
  {
   "cell_type": "code",
   "execution_count": 14,
   "metadata": {},
   "outputs": [
    {
     "data": {
      "text/html": [
       "<div>\n",
       "<style scoped>\n",
       "    .dataframe tbody tr th:only-of-type {\n",
       "        vertical-align: middle;\n",
       "    }\n",
       "\n",
       "    .dataframe tbody tr th {\n",
       "        vertical-align: top;\n",
       "    }\n",
       "\n",
       "    .dataframe thead th {\n",
       "        text-align: right;\n",
       "    }\n",
       "</style>\n",
       "<table border=\"1\" class=\"dataframe\">\n",
       "  <thead>\n",
       "    <tr style=\"text-align: right;\">\n",
       "      <th></th>\n",
       "      <th>CheckingAccount</th>\n",
       "      <th>Duration</th>\n",
       "      <th>CreditHistory</th>\n",
       "      <th>Purpose</th>\n",
       "      <th>CreditAmount</th>\n",
       "      <th>SavingsAccount</th>\n",
       "      <th>YearsEmployed</th>\n",
       "      <th>InstallmentRate</th>\n",
       "      <th>PersonalStatus</th>\n",
       "      <th>OtherDebtors</th>\n",
       "      <th>ResidentSince</th>\n",
       "      <th>Property</th>\n",
       "      <th>Age</th>\n",
       "      <th>OtherPlans</th>\n",
       "      <th>Housing</th>\n",
       "      <th>NumCreditsAtBank</th>\n",
       "      <th>Job</th>\n",
       "      <th>Dependents</th>\n",
       "      <th>Telephone</th>\n",
       "      <th>Foreign</th>\n",
       "      <th>Approve</th>\n",
       "    </tr>\n",
       "  </thead>\n",
       "  <tbody>\n",
       "    <tr>\n",
       "      <th>0</th>\n",
       "      <td>&lt;0</td>\n",
       "      <td>0.0</td>\n",
       "      <td>ok</td>\n",
       "      <td>furniture</td>\n",
       "      <td>-1.000000e+09</td>\n",
       "      <td>unknown</td>\n",
       "      <td>unemployed</td>\n",
       "      <td>-10000.0</td>\n",
       "      <td>female_single</td>\n",
       "      <td>none</td>\n",
       "      <td>0.0</td>\n",
       "      <td>car</td>\n",
       "      <td>-293.0</td>\n",
       "      <td>none</td>\n",
       "      <td>own</td>\n",
       "      <td>-1000.0</td>\n",
       "      <td>skilled</td>\n",
       "      <td>-185.0</td>\n",
       "      <td>yes</td>\n",
       "      <td>no</td>\n",
       "      <td>good</td>\n",
       "    </tr>\n",
       "    <tr>\n",
       "      <th>1</th>\n",
       "      <td>&lt;0</td>\n",
       "      <td>6.0</td>\n",
       "      <td>critical</td>\n",
       "      <td>television</td>\n",
       "      <td>1.169000e+03</td>\n",
       "      <td>unknown</td>\n",
       "      <td>&gt;=7</td>\n",
       "      <td>4.0</td>\n",
       "      <td>male_single</td>\n",
       "      <td>none</td>\n",
       "      <td>4.0</td>\n",
       "      <td>real_estate</td>\n",
       "      <td>67.0</td>\n",
       "      <td>none</td>\n",
       "      <td>own</td>\n",
       "      <td>2.0</td>\n",
       "      <td>skilled</td>\n",
       "      <td>1.0</td>\n",
       "      <td>yes</td>\n",
       "      <td>yes</td>\n",
       "      <td>good</td>\n",
       "    </tr>\n",
       "    <tr>\n",
       "      <th>2</th>\n",
       "      <td>&lt;200</td>\n",
       "      <td>48.0</td>\n",
       "      <td>ok_til_now</td>\n",
       "      <td>television</td>\n",
       "      <td>5.951000e+03</td>\n",
       "      <td>&lt;100</td>\n",
       "      <td>&lt;4</td>\n",
       "      <td>2.0</td>\n",
       "      <td>female</td>\n",
       "      <td>none</td>\n",
       "      <td>2.0</td>\n",
       "      <td>real_estate</td>\n",
       "      <td>22.0</td>\n",
       "      <td>none</td>\n",
       "      <td>own</td>\n",
       "      <td>1.0</td>\n",
       "      <td>skilled</td>\n",
       "      <td>1.0</td>\n",
       "      <td>no</td>\n",
       "      <td>yes</td>\n",
       "      <td>bad</td>\n",
       "    </tr>\n",
       "    <tr>\n",
       "      <th>3</th>\n",
       "      <td>none</td>\n",
       "      <td>12.0</td>\n",
       "      <td>critical</td>\n",
       "      <td>education</td>\n",
       "      <td>2.096000e+03</td>\n",
       "      <td>&lt;100</td>\n",
       "      <td>&lt;7</td>\n",
       "      <td>2.0</td>\n",
       "      <td>male_single</td>\n",
       "      <td>none</td>\n",
       "      <td>3.0</td>\n",
       "      <td>real_estate</td>\n",
       "      <td>49.0</td>\n",
       "      <td>none</td>\n",
       "      <td>own</td>\n",
       "      <td>1.0</td>\n",
       "      <td>unskilled</td>\n",
       "      <td>2.0</td>\n",
       "      <td>no</td>\n",
       "      <td>yes</td>\n",
       "      <td>good</td>\n",
       "    </tr>\n",
       "    <tr>\n",
       "      <th>4</th>\n",
       "      <td>&lt;0</td>\n",
       "      <td>42.0</td>\n",
       "      <td>ok_til_now</td>\n",
       "      <td>furniture</td>\n",
       "      <td>7.882000e+03</td>\n",
       "      <td>&lt;100</td>\n",
       "      <td>&lt;7</td>\n",
       "      <td>2.0</td>\n",
       "      <td>male_single</td>\n",
       "      <td>guarantor</td>\n",
       "      <td>4.0</td>\n",
       "      <td>savings</td>\n",
       "      <td>45.0</td>\n",
       "      <td>none</td>\n",
       "      <td>free</td>\n",
       "      <td>1.0</td>\n",
       "      <td>skilled</td>\n",
       "      <td>2.0</td>\n",
       "      <td>no</td>\n",
       "      <td>yes</td>\n",
       "      <td>good</td>\n",
       "    </tr>\n",
       "    <tr>\n",
       "      <th>5</th>\n",
       "      <td>&lt;0</td>\n",
       "      <td>24.0</td>\n",
       "      <td>past_delays</td>\n",
       "      <td>car_new</td>\n",
       "      <td>4.870000e+03</td>\n",
       "      <td>&lt;100</td>\n",
       "      <td>&lt;4</td>\n",
       "      <td>3.0</td>\n",
       "      <td>male_single</td>\n",
       "      <td>none</td>\n",
       "      <td>4.0</td>\n",
       "      <td>unknown</td>\n",
       "      <td>53.0</td>\n",
       "      <td>none</td>\n",
       "      <td>free</td>\n",
       "      <td>2.0</td>\n",
       "      <td>skilled</td>\n",
       "      <td>2.0</td>\n",
       "      <td>no</td>\n",
       "      <td>yes</td>\n",
       "      <td>bad</td>\n",
       "    </tr>\n",
       "    <tr>\n",
       "      <th>6</th>\n",
       "      <td>none</td>\n",
       "      <td>36.0</td>\n",
       "      <td>ok_til_now</td>\n",
       "      <td>education</td>\n",
       "      <td>9.055000e+03</td>\n",
       "      <td>unknown</td>\n",
       "      <td>&lt;4</td>\n",
       "      <td>2.0</td>\n",
       "      <td>male_single</td>\n",
       "      <td>none</td>\n",
       "      <td>4.0</td>\n",
       "      <td>unknown</td>\n",
       "      <td>35.0</td>\n",
       "      <td>none</td>\n",
       "      <td>free</td>\n",
       "      <td>1.0</td>\n",
       "      <td>unskilled</td>\n",
       "      <td>2.0</td>\n",
       "      <td>yes</td>\n",
       "      <td>yes</td>\n",
       "      <td>good</td>\n",
       "    </tr>\n",
       "    <tr>\n",
       "      <th>7</th>\n",
       "      <td>none</td>\n",
       "      <td>24.0</td>\n",
       "      <td>ok_til_now</td>\n",
       "      <td>furniture</td>\n",
       "      <td>2.835000e+03</td>\n",
       "      <td>&lt;1000</td>\n",
       "      <td>&gt;=7</td>\n",
       "      <td>3.0</td>\n",
       "      <td>male_single</td>\n",
       "      <td>none</td>\n",
       "      <td>4.0</td>\n",
       "      <td>savings</td>\n",
       "      <td>53.0</td>\n",
       "      <td>none</td>\n",
       "      <td>own</td>\n",
       "      <td>1.0</td>\n",
       "      <td>skilled</td>\n",
       "      <td>1.0</td>\n",
       "      <td>no</td>\n",
       "      <td>yes</td>\n",
       "      <td>good</td>\n",
       "    </tr>\n",
       "    <tr>\n",
       "      <th>8</th>\n",
       "      <td>&lt;200</td>\n",
       "      <td>36.0</td>\n",
       "      <td>ok_til_now</td>\n",
       "      <td>car_used</td>\n",
       "      <td>6.948000e+03</td>\n",
       "      <td>&lt;100</td>\n",
       "      <td>&lt;4</td>\n",
       "      <td>2.0</td>\n",
       "      <td>male_single</td>\n",
       "      <td>none</td>\n",
       "      <td>2.0</td>\n",
       "      <td>car</td>\n",
       "      <td>35.0</td>\n",
       "      <td>none</td>\n",
       "      <td>rent</td>\n",
       "      <td>1.0</td>\n",
       "      <td>management</td>\n",
       "      <td>1.0</td>\n",
       "      <td>yes</td>\n",
       "      <td>yes</td>\n",
       "      <td>good</td>\n",
       "    </tr>\n",
       "    <tr>\n",
       "      <th>9</th>\n",
       "      <td>none</td>\n",
       "      <td>12.0</td>\n",
       "      <td>ok_til_now</td>\n",
       "      <td>television</td>\n",
       "      <td>3.059000e+03</td>\n",
       "      <td>&gt;=1000</td>\n",
       "      <td>&lt;7</td>\n",
       "      <td>2.0</td>\n",
       "      <td>male_divorced</td>\n",
       "      <td>none</td>\n",
       "      <td>4.0</td>\n",
       "      <td>real_estate</td>\n",
       "      <td>61.0</td>\n",
       "      <td>none</td>\n",
       "      <td>own</td>\n",
       "      <td>1.0</td>\n",
       "      <td>unskilled</td>\n",
       "      <td>1.0</td>\n",
       "      <td>no</td>\n",
       "      <td>yes</td>\n",
       "      <td>good</td>\n",
       "    </tr>\n",
       "  </tbody>\n",
       "</table>\n",
       "</div>"
      ],
      "text/plain": [
       "  CheckingAccount  Duration CreditHistory     Purpose  CreditAmount  \\\n",
       "0              <0       0.0            ok   furniture -1.000000e+09   \n",
       "1              <0       6.0      critical  television  1.169000e+03   \n",
       "2            <200      48.0    ok_til_now  television  5.951000e+03   \n",
       "3            none      12.0      critical   education  2.096000e+03   \n",
       "4              <0      42.0    ok_til_now   furniture  7.882000e+03   \n",
       "5              <0      24.0   past_delays     car_new  4.870000e+03   \n",
       "6            none      36.0    ok_til_now   education  9.055000e+03   \n",
       "7            none      24.0    ok_til_now   furniture  2.835000e+03   \n",
       "8            <200      36.0    ok_til_now    car_used  6.948000e+03   \n",
       "9            none      12.0    ok_til_now  television  3.059000e+03   \n",
       "\n",
       "  SavingsAccount YearsEmployed  InstallmentRate PersonalStatus OtherDebtors  \\\n",
       "0        unknown    unemployed         -10000.0  female_single         none   \n",
       "1        unknown           >=7              4.0    male_single         none   \n",
       "2           <100            <4              2.0         female         none   \n",
       "3           <100            <7              2.0    male_single         none   \n",
       "4           <100            <7              2.0    male_single    guarantor   \n",
       "5           <100            <4              3.0    male_single         none   \n",
       "6        unknown            <4              2.0    male_single         none   \n",
       "7          <1000           >=7              3.0    male_single         none   \n",
       "8           <100            <4              2.0    male_single         none   \n",
       "9         >=1000            <7              2.0  male_divorced         none   \n",
       "\n",
       "   ResidentSince     Property    Age OtherPlans Housing  NumCreditsAtBank  \\\n",
       "0            0.0          car -293.0       none     own           -1000.0   \n",
       "1            4.0  real_estate   67.0       none     own               2.0   \n",
       "2            2.0  real_estate   22.0       none     own               1.0   \n",
       "3            3.0  real_estate   49.0       none     own               1.0   \n",
       "4            4.0      savings   45.0       none    free               1.0   \n",
       "5            4.0      unknown   53.0       none    free               2.0   \n",
       "6            4.0      unknown   35.0       none    free               1.0   \n",
       "7            4.0      savings   53.0       none     own               1.0   \n",
       "8            2.0          car   35.0       none    rent               1.0   \n",
       "9            4.0  real_estate   61.0       none     own               1.0   \n",
       "\n",
       "          Job  Dependents Telephone Foreign Approve  \n",
       "0     skilled      -185.0       yes      no    good  \n",
       "1     skilled         1.0       yes     yes    good  \n",
       "2     skilled         1.0        no     yes     bad  \n",
       "3   unskilled         2.0        no     yes    good  \n",
       "4     skilled         2.0        no     yes    good  \n",
       "5     skilled         2.0        no     yes     bad  \n",
       "6   unskilled         2.0       yes     yes    good  \n",
       "7     skilled         1.0        no     yes    good  \n",
       "8  management         1.0       yes     yes    good  \n",
       "9   unskilled         1.0        no     yes    good  "
      ]
     },
     "execution_count": 14,
     "metadata": {},
     "output_type": "execute_result"
    }
   ],
   "source": [
    "# Your Code goes here:\n",
    "pd.set_option('display.max_columns', None)\n",
    "credit.head(10)"
   ]
  },
  {
   "cell_type": "markdown",
   "metadata": {},
   "source": [
    "### ========== Question 1.4 ==========\n",
    "When presented with a dataset, it is usually a good idea to visualise it first. By using seaborn's [pairplot](https://seaborn.github.io/generated/seaborn.pairplot.html?highlight=pairplot#seaborn.pairplot) function, try visualising a scatter plot of the `Age` and `Duration` variables. You can use the `Approve` variable as the `hue` parameter to visualise results separately for each class. Do you notice anything unusual?"
   ]
  },
  {
   "cell_type": "code",
   "execution_count": 18,
   "metadata": {},
   "outputs": [
    {
     "data": {
      "text/plain": [
       "<seaborn.axisgrid.PairGrid at 0x2c364d0d430>"
      ]
     },
     "execution_count": 18,
     "metadata": {},
     "output_type": "execute_result"
    },
    {
     "data": {
      "image/png": "[encoded data removed]",
      "text/plain": [
       "<Figure size 420.75x360 with 6 Axes>"
      ]
     },
     "metadata": {
      "needs_background": "light"
     },
     "output_type": "display_data"
    }
   ],
   "source": [
    "# Your Code goes here:\n",
    "#duration\n",
    "temp = credit[['Duration', 'Age', 'Approve']]\n",
    "sns.pairplot(temp, hue=\"Approve\")"
   ]
  },
  {
   "cell_type": "markdown",
   "metadata": {},
   "source": [
    "***Your answer goes here:***\n",
    "\n",
    "There seems to be a single datapoint that is an outlier, having an \"age\" of less than 0, suggesting it is an error."
   ]
  },
  {
   "cell_type": "markdown",
   "metadata": {},
   "source": [
    "### ========== Question 1.5 ==========\n",
    "In the previous point you should have found a data point, which seems to be corrupted, as some of its values are nonsensical. Even a single point like this can significantly affect the performance of a classifier. How do you think it would affect Decision trees? How about Naive Bayes? A good way to check this is to test the performance of each classifier before and after removing this datapoint."
   ]
  },
  {
   "cell_type": "markdown",
   "metadata": {},
   "source": [
    "***Your answer goes here:***\n",
    "\n",
    "Decision tree wouldn't be seriously affected, the outlier would likely end up on its own branch. Naive bayes would run into a greater problem however, as any unseen and radically different datapoint would always provide a probability of 0."
   ]
  },
  {
   "cell_type": "markdown",
   "metadata": {},
   "source": [
    "### ========== Question 1.6 ==========\n",
    "Now we want to remove this instance from the dataset by using a filter. In general, we want to remove all instances, where the age of an applicant is lower than 0 years, as this suggests that the instance is corrupted. Use logical indexing to get rid of these instances without creating a new dataframe. Display the number of data points after any outliers have been removed."
   ]
  },
  {
   "cell_type": "code",
   "execution_count": 23,
   "metadata": {},
   "outputs": [
    {
     "name": "stdout",
     "output_type": "stream",
     "text": [
      "Number of instances:  1000\n"
     ]
    }
   ],
   "source": [
    "# Your Code goes here:\n",
    "credit = credit[credit.Age > 0]\n",
    "print(\"Number of instances: \", credit.shape[0])"
   ]
  },
  {
   "cell_type": "markdown",
   "metadata": {},
   "source": [
    "## Categorical Data and Encoding"
   ]
  },
  {
   "cell_type": "markdown",
   "metadata": {},
   "source": [
    "### ========== Question 1.7 ==========\n",
    "\n",
    "You might have noticed that most of the attributes in the dataset are in fact discrete. Now we want to know which variables exactly are discrete (both categorical and numerical, look [here](http://stats.stackexchange.com/questions/206/what-is-the-difference-between-discrete-data-and-continuous-data) if you are unsure about the difference) and which are continuous variables. In order to do so, we will inspect the number of possible values that each attribute can take. \n",
    "\n",
    "Display the number of values each attributes takes in the dataset. *Hint: As a first step, you want to loop over the columns of the DataFrame. Then you might find the numpy `unique` function quite useful.*"
   ]
  },
  {
   "cell_type": "code",
   "execution_count": 38,
   "metadata": {},
   "outputs": [
    {
     "name": "stdout",
     "output_type": "stream",
     "text": [
      "Attribute  CheckingAccount  unique values:  ['<0' '<200' '>=200' 'none']\n",
      "Attribute  Duration  unique values:  [ 4.  5.  6.  7.  8.  9. 10. 11. 12. 13. 14. 15. 16. 18. 20. 21. 22. 24.\n",
      " 26. 27. 28. 30. 33. 36. 39. 40. 42. 45. 47. 48. 54. 60. 72.]\n",
      "Attribute  CreditHistory  unique values:  ['critical' 'ok' 'ok_at_this_bank' 'ok_til_now' 'past_delays']\n",
      "Attribute  Purpose  unique values:  ['appliances' 'business' 'car_new' 'car_used' 'education' 'furniture'\n",
      " 'others' 'repairs' 'retraining' 'television']\n",
      "Attribute  CreditAmount  unique values:  [  250.   276.   338.   339.   343.   362.   368.   385.   392.   409.\n",
      "   426.   428.   433.   448.   454.   458.   484.   518.   522.   571.\n",
      "   585.   590.   601.   609.   618.   625.   626.   629.   639.   640.\n",
      "   652.   654.   660.   662.   666.   672.   674.   682.   683.   684.\n",
      "   685.   691.   697.   700.   701.   707.   708.   709.   717.   719.\n",
      "   727.   730.   731.   741.   745.   750.   753.   754.   759.   760.\n",
      "   763.   766.   776.   781.   783.   790.   795.   797.   802.   804.\n",
      "   806.   836.   841.   846.   860.   866.   874.   882.   884.   886.\n",
      "   888.   894.   900.   902.   907.   909.   915.   918.   926.   929.\n",
      "   930.   931.   932.   936.   937.   939.   947.   950.   951.   958.\n",
      "   959.   960.   975.   976.   983.   996.   999.  1007.  1024.  1028.\n",
      "  1037.  1038.  1042.  1047.  1048.  1049.  1050.  1053.  1055.  1056.\n",
      "  1068.  1076.  1082.  1092.  1098.  1101.  1103.  1107.  1108.  1113.\n",
      "  1123.  1126.  1131.  1136.  1138.  1149.  1154.  1155.  1158.  1163.\n",
      "  1164.  1168.  1169.  1175.  1185.  1188.  1190.  1193.  1198.  1199.\n",
      "  1200.  1201.  1203.  1204.  1206.  1207.  1209.  1213.  1216.  1217.\n",
      "  1221.  1223.  1224.  1225.  1228.  1231.  1236.  1237.  1238.  1239.\n",
      "  1240.  1244.  1245.  1246.  1249.  1255.  1258.  1262.  1264.  1271.\n",
      "  1274.  1275.  1278.  1282.  1283.  1285.  1287.  1288.  1289.  1291.\n",
      "  1295.  1297.  1299.  1300.  1301.  1308.  1309.  1311.  1313.  1316.\n",
      "  1318.  1322.  1323.  1330.  1331.  1333.  1337.  1338.  1343.  1344.\n",
      "  1345.  1346.  1347.  1352.  1355.  1358.  1360.  1361.  1364.  1366.\n",
      "  1371.  1372.  1374.  1376.  1377.  1381.  1382.  1386.  1388.  1391.\n",
      "  1393.  1402.  1403.  1409.  1410.  1412.  1413.  1414.  1418.  1422.\n",
      "  1424.  1433.  1437.  1442.  1444.  1445.  1449.  1453.  1455.  1459.\n",
      "  1469.  1471.  1473.  1474.  1478.  1480.  1484.  1493.  1494.  1495.\n",
      "  1498.  1501.  1503.  1505.  1512.  1514.  1516.  1520.  1521.  1525.\n",
      "  1526.  1530.  1532.  1533.  1534.  1537.  1538.  1542.  1543.  1544.\n",
      "  1546.  1549.  1552.  1553.  1554.  1555.  1559.  1567.  1568.  1569.\n",
      "  1572.  1574.  1577.  1582.  1585.  1591.  1592.  1595.  1597.  1602.\n",
      "  1603.  1620.  1647.  1655.  1657.  1659.  1670.  1680.  1715.  1721.\n",
      "  1736.  1740.  1743.  1747.  1750.  1755.  1766.  1768.  1778.  1795.\n",
      "  1797.  1800.  1804.  1808.  1817.  1819.  1820.  1823.  1829.  1835.\n",
      "  1837.  1842.  1845.  1851.  1858.  1860.  1864.  1867.  1872.  1880.\n",
      "  1881.  1882.  1884.  1887.  1893.  1898.  1901.  1905.  1908.  1913.\n",
      "  1919.  1922.  1924.  1925.  1927.  1928.  1934.  1935.  1936.  1938.\n",
      "  1940.  1941.  1943.  1950.  1953.  1957.  1961.  1963.  1965.  1967.\n",
      "  1977.  1979.  1980.  1984.  1987.  1995.  2002.  2012.  2022.  2028.\n",
      "  2030.  2032.  2039.  2051.  2058.  2063.  2064.  2069.  2073.  2080.\n",
      "  2096.  2100.  2101.  2108.  2116.  2118.  2121.  2122.  2124.  2132.\n",
      "  2133.  2134.  2136.  2141.  2142.  2145.  2146.  2149.  2150.  2169.\n",
      "  2171.  2181.  2186.  2197.  2210.  2212.  2214.  2221.  2223.  2225.\n",
      "  2235.  2238.  2241.  2246.  2247.  2249.  2251.  2255.  2273.  2278.\n",
      "  2279.  2284.  2288.  2292.  2299.  2301.  2302.  2303.  2315.  2319.\n",
      "  2320.  2323.  2325.  2326.  2327.  2329.  2331.  2333.  2337.  2346.\n",
      "  2348.  2353.  2359.  2360.  2366.  2375.  2384.  2389.  2390.  2394.\n",
      "  2397.  2404.  2406.  2415.  2424.  2427.  2439.  2442.  2445.  2462.\n",
      "  2463.  2473.  2476.  2483.  2503.  2507.  2511.  2515.  2520.  2522.\n",
      "  2528.  2538.  2569.  2570.  2576.  2577.  2578.  2579.  2580.  2600.\n",
      "  2603.  2606.  2611.  2613.  2622.  2625.  2629.  2631.  2647.  2659.\n",
      "  2662.  2670.  2671.  2675.  2679.  2684.  2687.  2697.  2708.  2712.\n",
      "  2718.  2728.  2743.  2745.  2746.  2748.  2751.  2753.  2759.  2760.\n",
      "  2762.  2764.  2767.  2775.  2779.  2782.  2788.  2799.  2812.  2820.\n",
      "  2825.  2828.  2831.  2835.  2848.  2859.  2862.  2864.  2872.  2892.\n",
      "  2896.  2899.  2901.  2910.  2923.  2924.  2930.  2957.  2964.  2969.\n",
      "  2978.  2991.  2993.  2996.  3001.  3016.  3017.  3021.  3029.  3031.\n",
      "  3049.  3051.  3059.  3060.  3062.  3069.  3074.  3077.  3079.  3092.\n",
      "  3104.  3105.  3108.  3114.  3123.  3124.  3148.  3149.  3160.  3161.\n",
      "  3181.  3186.  3190.  3195.  3213.  3229.  3234.  3235.  3244.  3249.\n",
      "  3275.  3331.  3342.  3343.  3345.  3349.  3357.  3368.  3378.  3380.\n",
      "  3384.  3386.  3394.  3398.  3399.  3414.  3416.  3422.  3430.  3441.\n",
      "  3446.  3447.  3448.  3485.  3488.  3496.  3499.  3509.  3512.  3518.\n",
      "  3527.  3535.  3552.  3556.  3565.  3566.  3568.  3573.  3577.  3578.\n",
      "  3590.  3594.  3595.  3599.  3609.  3612.  3617.  3620.  3621.  3622.\n",
      "  3632.  3643.  3650.  3651.  3652.  3656.  3660.  3676.  3711.  3749.\n",
      "  3757.  3758.  3763.  3777.  3780.  3804.  3812.  3832.  3835.  3844.\n",
      "  3850.  3857.  3863.  3868.  3872.  3878.  3905.  3913.  3914.  3915.\n",
      "  3931.  3939.  3949.  3959.  3965.  3966.  3972.  3973.  3976.  3979.\n",
      "  3990.  4006.  4020.  4042.  4057.  4110.  4113.  4139.  4151.  4153.\n",
      "  4165.  4169.  4210.  4221.  4241.  4249.  4272.  4280.  4281.  4297.\n",
      "  4308.  4351.  4370.  4380.  4439.  4454.  4455.  4463.  4473.  4526.\n",
      "  4530.  4576.  4583.  4591.  4594.  4605.  4611.  4623.  4657.  4675.\n",
      "  4679.  4686.  4712.  4716.  4736.  4746.  4771.  4788.  4795.  4796.\n",
      "  4811.  4817.  4843.  4844.  4870.  4933.  5003.  5045.  5084.  5096.\n",
      "  5103.  5117.  5129.  5150.  5152.  5179.  5190.  5234.  5248.  5293.\n",
      "  5302.  5324.  5371.  5381.  5433.  5493.  5507.  5511.  5595.  5711.\n",
      "  5742.  5743.  5771.  5800.  5801.  5804.  5842.  5848.  5866.  5943.\n",
      "  5951.  5954.  5965.  5998.  6070.  6078.  6110.  6143.  6148.  6187.\n",
      "  6199.  6204.  6224.  6229.  6260.  6288.  6289.  6304.  6313.  6314.\n",
      "  6331.  6350.  6361.  6403.  6416.  6419.  6458.  6468.  6527.  6560.\n",
      "  6568.  6579.  6614.  6615.  6681.  6742.  6758.  6761.  6836.  6842.\n",
      "  6850.  6872.  6887.  6948.  6967.  6999.  7057.  7119.  7127.  7166.\n",
      "  7174.  7228.  7238.  7253.  7297.  7308.  7374.  7393.  7408.  7409.\n",
      "  7418.  7432.  7472.  7476.  7485.  7511.  7582.  7596.  7629.  7678.\n",
      "  7685.  7721.  7758.  7763.  7814.  7824.  7855.  7865.  7882.  7966.\n",
      "  7980.  8065.  8072.  8086.  8133.  8229.  8318.  8335.  8358.  8386.\n",
      "  8471.  8487.  8588.  8613.  8648.  8858.  8947.  8978.  9034.  9055.\n",
      "  9157.  9271.  9277.  9283.  9398.  9436.  9566.  9572.  9629.  9857.\n",
      "  9960. 10127. 10144. 10222. 10297. 10366. 10477. 10623. 10722. 10875.\n",
      " 10961. 10974. 11054. 11328. 11560. 11590. 11760. 11816. 11938. 11998.\n",
      " 12169. 12204. 12389. 12579. 12612. 12680. 12749. 12976. 13756. 14027.\n",
      " 14179. 14318. 14421. 14555. 14782. 14896. 15653. 15672. 15857. 15945.\n",
      " 18424.]\n",
      "Attribute  SavingsAccount  unique values:  ['<100' '<1000' '<500' '>=1000' 'unknown']\n",
      "Attribute  YearsEmployed  unique values:  ['<1' '<4' '<7' '>=7' 'unemployed']\n",
      "Attribute  InstallmentRate  unique values:  [1. 2. 3. 4.]\n",
      "Attribute  PersonalStatus  unique values:  ['female' 'male_divorced' 'male_married' 'male_single']\n",
      "Attribute  OtherDebtors  unique values:  ['co' 'guarantor' 'none']\n",
      "Attribute  ResidentSince  unique values:  [1. 2. 3. 4.]\n",
      "Attribute  Property  unique values:  ['car' 'real_estate' 'savings' 'unknown']\n",
      "Attribute  Age  unique values:  [19. 20. 21. 22. 23. 24. 25. 26. 27. 28. 29. 30. 31. 32. 33. 34. 35. 36.\n",
      " 37. 38. 39. 40. 41. 42. 43. 44. 45. 46. 47. 48. 49. 50. 51. 52. 53. 54.\n",
      " 55. 56. 57. 58. 59. 60. 61. 62. 63. 64. 65. 66. 67. 68. 70. 74. 75.]\n",
      "Attribute  OtherPlans  unique values:  ['bank' 'none' 'stores']\n",
      "Attribute  Housing  unique values:  ['free' 'own' 'rent']\n",
      "Attribute  NumCreditsAtBank  unique values:  [1. 2. 3. 4.]\n",
      "Attribute  Job  unique values:  ['management' 'skilled' 'unemployed' 'unskilled']\n",
      "Attribute  Dependents  unique values:  [1. 2.]\n",
      "Attribute  Telephone  unique values:  ['no' 'yes']\n",
      "Attribute  Foreign  unique values:  ['no' 'yes']\n",
      "Attribute  Approve  unique values:  ['bad' 'good']\n"
     ]
    }
   ],
   "source": [
    "# Your Code goes here:\n",
    "for key, value in credit.iteritems():\n",
    "    #print(key, value)\n",
    "    print(\"Attribute \", key, \" unique values: \", np.unique(value))"
   ]
  },
  {
   "cell_type": "markdown",
   "metadata": {},
   "source": [
    "It seems like the variables `Duration`, `CreditAmount` and `Age` are continuous and all the rest are discrete. The discrete variables are not in a very convenient format though. Ideally we would want the discrete attributes to take values between `0` and `n_values-1`. Pandas has a handy way of dealing with [Categorical](https://pandas.pydata.org/pandas-docs/version/1.3.1/user_guide/categorical.html) data, which you are encouraged to get familiar with.\n",
    "\n",
    "We will create a new DataFrame called `credit_clean` and convert all the discrete variables from `credit` into pandas Categorical types. Remember, we want to change the discrete variables only, so we will have to exclude the `CreditAmount`, `Age` and `Duration` attributes. Also, we don't really mind if the target variable is categorical, so we won't be transforming the `Approve` attribute either. Execute the cell below and make sure you understand what it does."
   ]
  },
  {
   "cell_type": "code",
   "execution_count": 39,
   "metadata": {},
   "outputs": [],
   "source": [
    "credit_clean = credit.copy(deep=True) # Make a copy of the DataFrame\n",
    "for column in credit_clean.columns:   \n",
    "    if column not in ['CreditAmount', 'Age', 'Duration', 'Approve']: # Exclude non discrete columns and the target\n",
    "        credit_clean[column] = credit_clean[column].astype('category') # Convert using astype(...) method"
   ]
  },
  {
   "cell_type": "markdown",
   "metadata": {},
   "source": [
    "### ========== Question 1.8 ==========\n",
    "Display the first 10 data points of the clean data. Does it look like what you expected?"
   ]
  },
  {
   "cell_type": "code",
   "execution_count": 40,
   "metadata": {},
   "outputs": [
    {
     "data": {
      "text/html": [
       "<div>\n",
       "<style scoped>\n",
       "    .dataframe tbody tr th:only-of-type {\n",
       "        vertical-align: middle;\n",
       "    }\n",
       "\n",
       "    .dataframe tbody tr th {\n",
       "        vertical-align: top;\n",
       "    }\n",
       "\n",
       "    .dataframe thead th {\n",
       "        text-align: right;\n",
       "    }\n",
       "</style>\n",
       "<table border=\"1\" class=\"dataframe\">\n",
       "  <thead>\n",
       "    <tr style=\"text-align: right;\">\n",
       "      <th></th>\n",
       "      <th>CheckingAccount</th>\n",
       "      <th>Duration</th>\n",
       "      <th>CreditHistory</th>\n",
       "      <th>Purpose</th>\n",
       "      <th>CreditAmount</th>\n",
       "      <th>SavingsAccount</th>\n",
       "      <th>YearsEmployed</th>\n",
       "      <th>InstallmentRate</th>\n",
       "      <th>PersonalStatus</th>\n",
       "      <th>OtherDebtors</th>\n",
       "      <th>ResidentSince</th>\n",
       "      <th>Property</th>\n",
       "      <th>Age</th>\n",
       "      <th>OtherPlans</th>\n",
       "      <th>Housing</th>\n",
       "      <th>NumCreditsAtBank</th>\n",
       "      <th>Job</th>\n",
       "      <th>Dependents</th>\n",
       "      <th>Telephone</th>\n",
       "      <th>Foreign</th>\n",
       "      <th>Approve</th>\n",
       "    </tr>\n",
       "  </thead>\n",
       "  <tbody>\n",
       "    <tr>\n",
       "      <th>1</th>\n",
       "      <td>&lt;0</td>\n",
       "      <td>6.0</td>\n",
       "      <td>critical</td>\n",
       "      <td>television</td>\n",
       "      <td>1169.0</td>\n",
       "      <td>unknown</td>\n",
       "      <td>&gt;=7</td>\n",
       "      <td>4.0</td>\n",
       "      <td>male_single</td>\n",
       "      <td>none</td>\n",
       "      <td>4.0</td>\n",
       "      <td>real_estate</td>\n",
       "      <td>67.0</td>\n",
       "      <td>none</td>\n",
       "      <td>own</td>\n",
       "      <td>2.0</td>\n",
       "      <td>skilled</td>\n",
       "      <td>1.0</td>\n",
       "      <td>yes</td>\n",
       "      <td>yes</td>\n",
       "      <td>good</td>\n",
       "    </tr>\n",
       "    <tr>\n",
       "      <th>2</th>\n",
       "      <td>&lt;200</td>\n",
       "      <td>48.0</td>\n",
       "      <td>ok_til_now</td>\n",
       "      <td>television</td>\n",
       "      <td>5951.0</td>\n",
       "      <td>&lt;100</td>\n",
       "      <td>&lt;4</td>\n",
       "      <td>2.0</td>\n",
       "      <td>female</td>\n",
       "      <td>none</td>\n",
       "      <td>2.0</td>\n",
       "      <td>real_estate</td>\n",
       "      <td>22.0</td>\n",
       "      <td>none</td>\n",
       "      <td>own</td>\n",
       "      <td>1.0</td>\n",
       "      <td>skilled</td>\n",
       "      <td>1.0</td>\n",
       "      <td>no</td>\n",
       "      <td>yes</td>\n",
       "      <td>bad</td>\n",
       "    </tr>\n",
       "    <tr>\n",
       "      <th>3</th>\n",
       "      <td>none</td>\n",
       "      <td>12.0</td>\n",
       "      <td>critical</td>\n",
       "      <td>education</td>\n",
       "      <td>2096.0</td>\n",
       "      <td>&lt;100</td>\n",
       "      <td>&lt;7</td>\n",
       "      <td>2.0</td>\n",
       "      <td>male_single</td>\n",
       "      <td>none</td>\n",
       "      <td>3.0</td>\n",
       "      <td>real_estate</td>\n",
       "      <td>49.0</td>\n",
       "      <td>none</td>\n",
       "      <td>own</td>\n",
       "      <td>1.0</td>\n",
       "      <td>unskilled</td>\n",
       "      <td>2.0</td>\n",
       "      <td>no</td>\n",
       "      <td>yes</td>\n",
       "      <td>good</td>\n",
       "    </tr>\n",
       "    <tr>\n",
       "      <th>4</th>\n",
       "      <td>&lt;0</td>\n",
       "      <td>42.0</td>\n",
       "      <td>ok_til_now</td>\n",
       "      <td>furniture</td>\n",
       "      <td>7882.0</td>\n",
       "      <td>&lt;100</td>\n",
       "      <td>&lt;7</td>\n",
       "      <td>2.0</td>\n",
       "      <td>male_single</td>\n",
       "      <td>guarantor</td>\n",
       "      <td>4.0</td>\n",
       "      <td>savings</td>\n",
       "      <td>45.0</td>\n",
       "      <td>none</td>\n",
       "      <td>free</td>\n",
       "      <td>1.0</td>\n",
       "      <td>skilled</td>\n",
       "      <td>2.0</td>\n",
       "      <td>no</td>\n",
       "      <td>yes</td>\n",
       "      <td>good</td>\n",
       "    </tr>\n",
       "    <tr>\n",
       "      <th>5</th>\n",
       "      <td>&lt;0</td>\n",
       "      <td>24.0</td>\n",
       "      <td>past_delays</td>\n",
       "      <td>car_new</td>\n",
       "      <td>4870.0</td>\n",
       "      <td>&lt;100</td>\n",
       "      <td>&lt;4</td>\n",
       "      <td>3.0</td>\n",
       "      <td>male_single</td>\n",
       "      <td>none</td>\n",
       "      <td>4.0</td>\n",
       "      <td>unknown</td>\n",
       "      <td>53.0</td>\n",
       "      <td>none</td>\n",
       "      <td>free</td>\n",
       "      <td>2.0</td>\n",
       "      <td>skilled</td>\n",
       "      <td>2.0</td>\n",
       "      <td>no</td>\n",
       "      <td>yes</td>\n",
       "      <td>bad</td>\n",
       "    </tr>\n",
       "    <tr>\n",
       "      <th>6</th>\n",
       "      <td>none</td>\n",
       "      <td>36.0</td>\n",
       "      <td>ok_til_now</td>\n",
       "      <td>education</td>\n",
       "      <td>9055.0</td>\n",
       "      <td>unknown</td>\n",
       "      <td>&lt;4</td>\n",
       "      <td>2.0</td>\n",
       "      <td>male_single</td>\n",
       "      <td>none</td>\n",
       "      <td>4.0</td>\n",
       "      <td>unknown</td>\n",
       "      <td>35.0</td>\n",
       "      <td>none</td>\n",
       "      <td>free</td>\n",
       "      <td>1.0</td>\n",
       "      <td>unskilled</td>\n",
       "      <td>2.0</td>\n",
       "      <td>yes</td>\n",
       "      <td>yes</td>\n",
       "      <td>good</td>\n",
       "    </tr>\n",
       "    <tr>\n",
       "      <th>7</th>\n",
       "      <td>none</td>\n",
       "      <td>24.0</td>\n",
       "      <td>ok_til_now</td>\n",
       "      <td>furniture</td>\n",
       "      <td>2835.0</td>\n",
       "      <td>&lt;1000</td>\n",
       "      <td>&gt;=7</td>\n",
       "      <td>3.0</td>\n",
       "      <td>male_single</td>\n",
       "      <td>none</td>\n",
       "      <td>4.0</td>\n",
       "      <td>savings</td>\n",
       "      <td>53.0</td>\n",
       "      <td>none</td>\n",
       "      <td>own</td>\n",
       "      <td>1.0</td>\n",
       "      <td>skilled</td>\n",
       "      <td>1.0</td>\n",
       "      <td>no</td>\n",
       "      <td>yes</td>\n",
       "      <td>good</td>\n",
       "    </tr>\n",
       "    <tr>\n",
       "      <th>8</th>\n",
       "      <td>&lt;200</td>\n",
       "      <td>36.0</td>\n",
       "      <td>ok_til_now</td>\n",
       "      <td>car_used</td>\n",
       "      <td>6948.0</td>\n",
       "      <td>&lt;100</td>\n",
       "      <td>&lt;4</td>\n",
       "      <td>2.0</td>\n",
       "      <td>male_single</td>\n",
       "      <td>none</td>\n",
       "      <td>2.0</td>\n",
       "      <td>car</td>\n",
       "      <td>35.0</td>\n",
       "      <td>none</td>\n",
       "      <td>rent</td>\n",
       "      <td>1.0</td>\n",
       "      <td>management</td>\n",
       "      <td>1.0</td>\n",
       "      <td>yes</td>\n",
       "      <td>yes</td>\n",
       "      <td>good</td>\n",
       "    </tr>\n",
       "    <tr>\n",
       "      <th>9</th>\n",
       "      <td>none</td>\n",
       "      <td>12.0</td>\n",
       "      <td>ok_til_now</td>\n",
       "      <td>television</td>\n",
       "      <td>3059.0</td>\n",
       "      <td>&gt;=1000</td>\n",
       "      <td>&lt;7</td>\n",
       "      <td>2.0</td>\n",
       "      <td>male_divorced</td>\n",
       "      <td>none</td>\n",
       "      <td>4.0</td>\n",
       "      <td>real_estate</td>\n",
       "      <td>61.0</td>\n",
       "      <td>none</td>\n",
       "      <td>own</td>\n",
       "      <td>1.0</td>\n",
       "      <td>unskilled</td>\n",
       "      <td>1.0</td>\n",
       "      <td>no</td>\n",
       "      <td>yes</td>\n",
       "      <td>good</td>\n",
       "    </tr>\n",
       "    <tr>\n",
       "      <th>10</th>\n",
       "      <td>&lt;200</td>\n",
       "      <td>30.0</td>\n",
       "      <td>critical</td>\n",
       "      <td>car_new</td>\n",
       "      <td>5234.0</td>\n",
       "      <td>&lt;100</td>\n",
       "      <td>unemployed</td>\n",
       "      <td>4.0</td>\n",
       "      <td>male_married</td>\n",
       "      <td>none</td>\n",
       "      <td>2.0</td>\n",
       "      <td>car</td>\n",
       "      <td>28.0</td>\n",
       "      <td>none</td>\n",
       "      <td>own</td>\n",
       "      <td>2.0</td>\n",
       "      <td>management</td>\n",
       "      <td>1.0</td>\n",
       "      <td>no</td>\n",
       "      <td>yes</td>\n",
       "      <td>bad</td>\n",
       "    </tr>\n",
       "  </tbody>\n",
       "</table>\n",
       "</div>"
      ],
      "text/plain": [
       "   CheckingAccount  Duration CreditHistory     Purpose  CreditAmount  \\\n",
       "1               <0       6.0      critical  television        1169.0   \n",
       "2             <200      48.0    ok_til_now  television        5951.0   \n",
       "3             none      12.0      critical   education        2096.0   \n",
       "4               <0      42.0    ok_til_now   furniture        7882.0   \n",
       "5               <0      24.0   past_delays     car_new        4870.0   \n",
       "6             none      36.0    ok_til_now   education        9055.0   \n",
       "7             none      24.0    ok_til_now   furniture        2835.0   \n",
       "8             <200      36.0    ok_til_now    car_used        6948.0   \n",
       "9             none      12.0    ok_til_now  television        3059.0   \n",
       "10            <200      30.0      critical     car_new        5234.0   \n",
       "\n",
       "   SavingsAccount YearsEmployed InstallmentRate PersonalStatus OtherDebtors  \\\n",
       "1         unknown           >=7             4.0    male_single         none   \n",
       "2            <100            <4             2.0         female         none   \n",
       "3            <100            <7             2.0    male_single         none   \n",
       "4            <100            <7             2.0    male_single    guarantor   \n",
       "5            <100            <4             3.0    male_single         none   \n",
       "6         unknown            <4             2.0    male_single         none   \n",
       "7           <1000           >=7             3.0    male_single         none   \n",
       "8            <100            <4             2.0    male_single         none   \n",
       "9          >=1000            <7             2.0  male_divorced         none   \n",
       "10           <100    unemployed             4.0   male_married         none   \n",
       "\n",
       "   ResidentSince     Property   Age OtherPlans Housing NumCreditsAtBank  \\\n",
       "1            4.0  real_estate  67.0       none     own              2.0   \n",
       "2            2.0  real_estate  22.0       none     own              1.0   \n",
       "3            3.0  real_estate  49.0       none     own              1.0   \n",
       "4            4.0      savings  45.0       none    free              1.0   \n",
       "5            4.0      unknown  53.0       none    free              2.0   \n",
       "6            4.0      unknown  35.0       none    free              1.0   \n",
       "7            4.0      savings  53.0       none     own              1.0   \n",
       "8            2.0          car  35.0       none    rent              1.0   \n",
       "9            4.0  real_estate  61.0       none     own              1.0   \n",
       "10           2.0          car  28.0       none     own              2.0   \n",
       "\n",
       "           Job Dependents Telephone Foreign Approve  \n",
       "1      skilled        1.0       yes     yes    good  \n",
       "2      skilled        1.0        no     yes     bad  \n",
       "3    unskilled        2.0        no     yes    good  \n",
       "4      skilled        2.0        no     yes    good  \n",
       "5      skilled        2.0        no     yes     bad  \n",
       "6    unskilled        2.0       yes     yes    good  \n",
       "7      skilled        1.0        no     yes    good  \n",
       "8   management        1.0       yes     yes    good  \n",
       "9    unskilled        1.0        no     yes    good  \n",
       "10  management        1.0        no     yes     bad  "
      ]
     },
     "execution_count": 40,
     "metadata": {},
     "output_type": "execute_result"
    }
   ],
   "source": [
    "# Your Code goes here:\n",
    "credit_clean.head(10)"
   ]
  },
  {
   "cell_type": "markdown",
   "metadata": {},
   "source": [
    "### ========== Question 1.9 ==========\n",
    "\n",
    "There is a **conceptual** problem with using an (unordered) categorical input to train a decision tree. Can you figure it out? *Hint*: Look at the data-types supported by the `DecisionTreeClassifier`, specifically the input to the [fit](https://scikit-learn.org/0.24/modules/generated/sklearn.tree.DecisionTreeClassifier.html#sklearn.tree.DecisionTreeClassifier.fit) method."
   ]
  },
  {
   "cell_type": "markdown",
   "metadata": {},
   "source": [
    "***Your answer goes here:***\n",
    "\n",
    "The problem is that the input is converted into the float32 datatype, meaning unordered categorical input will lose its meaning once converted."
   ]
  },
  {
   "cell_type": "markdown",
   "metadata": {},
   "source": [
    "### ========== Question 1.10 ==========\n",
    "\n",
    "Let us then convert the categorical values we just created into a one-hot-encoding. Pandas provides this functionality conveniently via the [`get_dummies`](https://pandas.pydata.org/pandas-docs/version/0.23.4/generated/pandas.get_dummies.html) method. Use it to generate a matrix `X` containing the one-hot encoded categorical features as well as the floating-point attributes (`CreditAmount`, `Age` and `Duration`). Also, (separately) extract the target variable (`Approve`) into a vector `y`. In each case, display the shape of the matrix/vector `X` and `y`. \n",
    "\n",
    "*TIP: It will be useful to keep track of the column names in the new one-hot-encoded format for later.*"
   ]
  },
  {
   "cell_type": "code",
   "execution_count": 63,
   "metadata": {},
   "outputs": [
    {
     "name": "stdout",
     "output_type": "stream",
     "text": [
      "(1000, 71)\n"
     ]
    }
   ],
   "source": [
    "# Extract (and print the shape of) X\n",
    "\n",
    "# Your Code goes here:\n",
    "X = pd.get_dummies(credit_clean.drop(['Approve'], axis = 1))\n",
    "print(X.shape)\n",
    "\n",
    "column_names = []\n",
    "for col in X.columns:\n",
    "    column_names.append(col)"
   ]
  },
  {
   "cell_type": "code",
   "execution_count": 51,
   "metadata": {},
   "outputs": [
    {
     "data": {
      "text/plain": [
       "(1000,)"
      ]
     },
     "execution_count": 51,
     "metadata": {},
     "output_type": "execute_result"
    }
   ],
   "source": [
    "# Extract the Target y (and print its shape)\n",
    "\n",
    "# Your Code goes here:\n",
    "y = credit_clean['Approve']\n",
    "y.shape"
   ]
  },
  {
   "cell_type": "markdown",
   "metadata": {},
   "source": [
    "(Confirm that you have 71 input features, one target variable and 1000 data points). *Bonus Question*: where did the 71 come from?\n",
    "\n",
    "71 is the number of columns you get when you split all the categorical variables into their own sub features"
   ]
  },
  {
   "cell_type": "markdown",
   "metadata": {},
   "source": [
    "## Hold-out validation\n",
    "In the next step we will be using a Decision Tree classifier model. To get an accurate estimate of the model's classification performance we will use hold-out validation. Familiriase yourself with the logic behind [`train_test_split CV`](http://scikit-learn.org/0.24/modules/cross_validation.html#cross-validation-evaluating-estimator-performance) (also called `Hold-out` validation) and [how it is used](http://scikit-learn.org/0.24/modules/generated/sklearn.cross_validation.train_test_split.html) in `Scikit-learn`. Execute the cell below to create your training/testing sets by assigning 10% of the data to the test set (and convince yourself you understand what is going on)."
   ]
  },
  {
   "cell_type": "code",
   "execution_count": 52,
   "metadata": {},
   "outputs": [],
   "source": [
    "X_train, X_test, y_train, y_test = train_test_split(X, y, train_size = 0.9, test_size=0.1, random_state=0)"
   ]
  },
  {
   "cell_type": "markdown",
   "metadata": {},
   "source": [
    "### ========== Question 1.11 ==========\n",
    "Confirm that `X_train` and `X_test` matrices are subsets of `X` by displaying the number of rows in the three matrices (no need to make use of set theory)."
   ]
  },
  {
   "cell_type": "code",
   "execution_count": 54,
   "metadata": {},
   "outputs": [
    {
     "name": "stdout",
     "output_type": "stream",
     "text": [
      "(900, 71) (100, 71)\n"
     ]
    }
   ],
   "source": [
    "# Your Code goes here:\n",
    "print(X_train.shape, X_test.shape)"
   ]
  },
  {
   "cell_type": "markdown",
   "metadata": {},
   "source": [
    "### ========== Question 1.12 ==========\n",
    "Now we will train a Decision Tree classifier on the training data. Read about [Decision Tree classifiers](http://scikit-learn.org/0.24/modules/tree.html) in `Scikit-learn` and how they are [used](http://scikit-learn.org/0.24/modules/generated/sklearn.tree.DecisionTreeClassifier.html#sklearn.tree.DecisionTreeClassifier). \n",
    "Create a `DecisionTreeClassifier` instance, naming it `dt` and train it by using training data only (i.e. `X_train` and `y_tain`). Set the `criterion` attribute to `entropy` in order to measure the quality of splits by using the information gain. Use the default settings for the rest of parameters. By default, trees are grown to full depth; this means that very fine splits are made involving very few data points. Not only does this make the trees hard to visualise (they'll be deep), but also we could be overfitting the data. For now, we arbitrarily choose a depth of 2 for our tree (to make it easier to interpret below), but this is a parameter we could tune. For consistency, use a `random_state=1000`."
   ]
  },
  {
   "cell_type": "code",
   "execution_count": 132,
   "metadata": {},
   "outputs": [],
   "source": [
    "# Your Code goes here:\n",
    "dt = DecisionTreeClassifier(criterion = 'entropy', max_depth = 3, random_state = 1000)\n",
    "dt = dt.fit(X_train, y_train)\n",
    "score_train = dt.predict(X_train)\n",
    "score_test = dt.predict(X_test)"
   ]
  },
  {
   "cell_type": "markdown",
   "metadata": {},
   "source": [
    "We have mentioned in the class that decision trees have the advantage of being interpretable by humans. Now we visualise the decision tree we have just trained. Scikit-learn can export the tree in a `.dot` format. Run the following code (replace `column_names` with whatever you used to store the names of the columns of the extended feature-space):"
   ]
  },
  {
   "cell_type": "code",
   "execution_count": 64,
   "metadata": {},
   "outputs": [
    {
     "data": {
      "image/svg+xml": [
       "<?xml version=\"1.0\" encoding=\"UTF-8\" standalone=\"no\"?>\r\n",
       "<!DOCTYPE svg PUBLIC \"-//W3C//DTD SVG 1.1//EN\"\r\n",
       " \"http://www.w3.org/Graphics/SVG/1.1/DTD/svg11.dtd\">\r\n",
       "<!-- Generated by graphviz version 2.46.1 (0)\r\n",
       " -->\r\n",
       "<!-- Title: Tree Pages: 1 -->\r\n",
       "<svg width=\"560pt\" height=\"314pt\"\r\n",
       " viewBox=\"0.00 0.00 560.00 314.00\" xmlns=\"http://www.w3.org/2000/svg\" xmlns:xlink=\"http://www.w3.org/1999/xlink\">\r\n",
       "<g id=\"graph0\" class=\"graph\" transform=\"scale(1 1) rotate(0) translate(4 310)\">\r\n",
       "<title>Tree</title>\r\n",
       "<polygon fill=\"white\" stroke=\"transparent\" points=\"-4,4 -4,-310 556,-310 556,4 -4,4\"/>\r\n",
       "<!-- 0 -->\r\n",
       "<g id=\"node1\" class=\"node\">\r\n",
       "<title>0</title>\r\n",
       "<path fill=\"#90c8f0\" stroke=\"black\" d=\"M370,-306C370,-306 182,-306 182,-306 176,-306 170,-300 170,-294 170,-294 170,-235 170,-235 170,-229 176,-223 182,-223 182,-223 370,-223 370,-223 376,-223 382,-229 382,-235 382,-235 382,-294 382,-294 382,-300 376,-306 370,-306\"/>\r\n",
       "<text text-anchor=\"middle\" x=\"276\" y=\"-290.8\" font-family=\"Helvetica,sans-Serif\" font-size=\"14.00\">CheckingAccount_none &lt;= 0.5</text>\r\n",
       "<text text-anchor=\"middle\" x=\"276\" y=\"-275.8\" font-family=\"Helvetica,sans-Serif\" font-size=\"14.00\">entropy = 0.888</text>\r\n",
       "<text text-anchor=\"middle\" x=\"276\" y=\"-260.8\" font-family=\"Helvetica,sans-Serif\" font-size=\"14.00\">samples = 900</text>\r\n",
       "<text text-anchor=\"middle\" x=\"276\" y=\"-245.8\" font-family=\"Helvetica,sans-Serif\" font-size=\"14.00\">value = [275, 625]</text>\r\n",
       "<text text-anchor=\"middle\" x=\"276\" y=\"-230.8\" font-family=\"Helvetica,sans-Serif\" font-size=\"14.00\">class = bad</text>\r\n",
       "</g>\r\n",
       "<!-- 1 -->\r\n",
       "<g id=\"node2\" class=\"node\">\r\n",
       "<title>1</title>\r\n",
       "<path fill=\"#cde6f8\" stroke=\"black\" d=\"M245,-187C245,-187 139,-187 139,-187 133,-187 127,-181 127,-175 127,-175 127,-116 127,-116 127,-110 133,-104 139,-104 139,-104 245,-104 245,-104 251,-104 257,-110 257,-116 257,-116 257,-175 257,-175 257,-181 251,-187 245,-187\"/>\r\n",
       "<text text-anchor=\"middle\" x=\"192\" y=\"-171.8\" font-family=\"Helvetica,sans-Serif\" font-size=\"14.00\">Duration &lt;= 11.5</text>\r\n",
       "<text text-anchor=\"middle\" x=\"192\" y=\"-156.8\" font-family=\"Helvetica,sans-Serif\" font-size=\"14.00\">entropy = 0.985</text>\r\n",
       "<text text-anchor=\"middle\" x=\"192\" y=\"-141.8\" font-family=\"Helvetica,sans-Serif\" font-size=\"14.00\">samples = 544</text>\r\n",
       "<text text-anchor=\"middle\" x=\"192\" y=\"-126.8\" font-family=\"Helvetica,sans-Serif\" font-size=\"14.00\">value = [233, 311]</text>\r\n",
       "<text text-anchor=\"middle\" x=\"192\" y=\"-111.8\" font-family=\"Helvetica,sans-Serif\" font-size=\"14.00\">class = bad</text>\r\n",
       "</g>\r\n",
       "<!-- 0&#45;&gt;1 -->\r\n",
       "<g id=\"edge1\" class=\"edge\">\r\n",
       "<title>0&#45;&gt;1</title>\r\n",
       "<path fill=\"none\" stroke=\"black\" d=\"M246.86,-222.91C240.47,-214.01 233.65,-204.51 227.06,-195.33\"/>\r\n",
       "<polygon fill=\"black\" stroke=\"black\" points=\"229.77,-193.1 221.09,-187.02 224.08,-197.19 229.77,-193.1\"/>\r\n",
       "<text text-anchor=\"middle\" x=\"217.04\" y=\"-207.99\" font-family=\"Helvetica,sans-Serif\" font-size=\"14.00\">True</text>\r\n",
       "</g>\r\n",
       "<!-- 4 -->\r\n",
       "<g id=\"node5\" class=\"node\">\r\n",
       "<title>4</title>\r\n",
       "<path fill=\"#53aae8\" stroke=\"black\" d=\"M434.5,-187C434.5,-187 287.5,-187 287.5,-187 281.5,-187 275.5,-181 275.5,-175 275.5,-175 275.5,-116 275.5,-116 275.5,-110 281.5,-104 287.5,-104 287.5,-104 434.5,-104 434.5,-104 440.5,-104 446.5,-110 446.5,-116 446.5,-116 446.5,-175 446.5,-175 446.5,-181 440.5,-187 434.5,-187\"/>\r\n",
       "<text text-anchor=\"middle\" x=\"361\" y=\"-171.8\" font-family=\"Helvetica,sans-Serif\" font-size=\"14.00\">OtherPlans_none &lt;= 0.5</text>\r\n",
       "<text text-anchor=\"middle\" x=\"361\" y=\"-156.8\" font-family=\"Helvetica,sans-Serif\" font-size=\"14.00\">entropy = 0.524</text>\r\n",
       "<text text-anchor=\"middle\" x=\"361\" y=\"-141.8\" font-family=\"Helvetica,sans-Serif\" font-size=\"14.00\">samples = 356</text>\r\n",
       "<text text-anchor=\"middle\" x=\"361\" y=\"-126.8\" font-family=\"Helvetica,sans-Serif\" font-size=\"14.00\">value = [42, 314]</text>\r\n",
       "<text text-anchor=\"middle\" x=\"361\" y=\"-111.8\" font-family=\"Helvetica,sans-Serif\" font-size=\"14.00\">class = bad</text>\r\n",
       "</g>\r\n",
       "<!-- 0&#45;&gt;4 -->\r\n",
       "<g id=\"edge4\" class=\"edge\">\r\n",
       "<title>0&#45;&gt;4</title>\r\n",
       "<path fill=\"none\" stroke=\"black\" d=\"M305.49,-222.91C311.95,-214.01 318.86,-204.51 325.52,-195.33\"/>\r\n",
       "<polygon fill=\"black\" stroke=\"black\" points=\"328.52,-197.17 331.56,-187.02 322.85,-193.05 328.52,-197.17\"/>\r\n",
       "<text text-anchor=\"middle\" x=\"335.47\" y=\"-208.01\" font-family=\"Helvetica,sans-Serif\" font-size=\"14.00\">False</text>\r\n",
       "</g>\r\n",
       "<!-- 2 -->\r\n",
       "<g id=\"node3\" class=\"node\">\r\n",
       "<title>2</title>\r\n",
       "<path fill=\"#6db7ec\" stroke=\"black\" d=\"M104,-68C104,-68 12,-68 12,-68 6,-68 0,-62 0,-56 0,-56 0,-12 0,-12 0,-6 6,0 12,0 12,0 104,0 104,0 110,0 116,-6 116,-12 116,-12 116,-56 116,-56 116,-62 110,-68 104,-68\"/>\r\n",
       "<text text-anchor=\"middle\" x=\"58\" y=\"-52.8\" font-family=\"Helvetica,sans-Serif\" font-size=\"14.00\">entropy = 0.735</text>\r\n",
       "<text text-anchor=\"middle\" x=\"58\" y=\"-37.8\" font-family=\"Helvetica,sans-Serif\" font-size=\"14.00\">samples = 92</text>\r\n",
       "<text text-anchor=\"middle\" x=\"58\" y=\"-22.8\" font-family=\"Helvetica,sans-Serif\" font-size=\"14.00\">value = [19, 73]</text>\r\n",
       "<text text-anchor=\"middle\" x=\"58\" y=\"-7.8\" font-family=\"Helvetica,sans-Serif\" font-size=\"14.00\">class = bad</text>\r\n",
       "</g>\r\n",
       "<!-- 1&#45;&gt;2 -->\r\n",
       "<g id=\"edge2\" class=\"edge\">\r\n",
       "<title>1&#45;&gt;2</title>\r\n",
       "<path fill=\"none\" stroke=\"black\" d=\"M142.1,-103.73C130.5,-94.24 118.15,-84.16 106.6,-74.72\"/>\r\n",
       "<polygon fill=\"black\" stroke=\"black\" points=\"108.71,-71.92 98.75,-68.3 104.28,-77.34 108.71,-71.92\"/>\r\n",
       "</g>\r\n",
       "<!-- 3 -->\r\n",
       "<g id=\"node4\" class=\"node\">\r\n",
       "<title>3</title>\r\n",
       "<path fill=\"#ebf5fc\" stroke=\"black\" d=\"M252,-68C252,-68 146,-68 146,-68 140,-68 134,-62 134,-56 134,-56 134,-12 134,-12 134,-6 140,0 146,0 146,0 252,0 252,0 258,0 264,-6 264,-12 264,-12 264,-56 264,-56 264,-62 258,-68 252,-68\"/>\r\n",
       "<text text-anchor=\"middle\" x=\"199\" y=\"-52.8\" font-family=\"Helvetica,sans-Serif\" font-size=\"14.00\">entropy = 0.998</text>\r\n",
       "<text text-anchor=\"middle\" x=\"199\" y=\"-37.8\" font-family=\"Helvetica,sans-Serif\" font-size=\"14.00\">samples = 452</text>\r\n",
       "<text text-anchor=\"middle\" x=\"199\" y=\"-22.8\" font-family=\"Helvetica,sans-Serif\" font-size=\"14.00\">value = [214, 238]</text>\r\n",
       "<text text-anchor=\"middle\" x=\"199\" y=\"-7.8\" font-family=\"Helvetica,sans-Serif\" font-size=\"14.00\">class = bad</text>\r\n",
       "</g>\r\n",
       "<!-- 1&#45;&gt;3 -->\r\n",
       "<g id=\"edge3\" class=\"edge\">\r\n",
       "<title>1&#45;&gt;3</title>\r\n",
       "<path fill=\"none\" stroke=\"black\" d=\"M194.61,-103.73C195.14,-95.43 195.7,-86.67 196.23,-78.28\"/>\r\n",
       "<polygon fill=\"black\" stroke=\"black\" points=\"199.73,-78.5 196.87,-68.3 192.74,-78.06 199.73,-78.5\"/>\r\n",
       "</g>\r\n",
       "<!-- 5 -->\r\n",
       "<g id=\"node6\" class=\"node\">\r\n",
       "<title>5</title>\r\n",
       "<path fill=\"#92c9f1\" stroke=\"black\" d=\"M400,-68C400,-68 308,-68 308,-68 302,-68 296,-62 296,-56 296,-56 296,-12 296,-12 296,-6 302,0 308,0 308,0 400,0 400,0 406,0 412,-6 412,-12 412,-12 412,-56 412,-56 412,-62 406,-68 400,-68\"/>\r\n",
       "<text text-anchor=\"middle\" x=\"354\" y=\"-52.8\" font-family=\"Helvetica,sans-Serif\" font-size=\"14.00\">entropy = 0.892</text>\r\n",
       "<text text-anchor=\"middle\" x=\"354\" y=\"-37.8\" font-family=\"Helvetica,sans-Serif\" font-size=\"14.00\">samples = 55</text>\r\n",
       "<text text-anchor=\"middle\" x=\"354\" y=\"-22.8\" font-family=\"Helvetica,sans-Serif\" font-size=\"14.00\">value = [17, 38]</text>\r\n",
       "<text text-anchor=\"middle\" x=\"354\" y=\"-7.8\" font-family=\"Helvetica,sans-Serif\" font-size=\"14.00\">class = bad</text>\r\n",
       "</g>\r\n",
       "<!-- 4&#45;&gt;5 -->\r\n",
       "<g id=\"edge5\" class=\"edge\">\r\n",
       "<title>4&#45;&gt;5</title>\r\n",
       "<path fill=\"none\" stroke=\"black\" d=\"M358.39,-103.73C357.86,-95.43 357.3,-86.67 356.77,-78.28\"/>\r\n",
       "<polygon fill=\"black\" stroke=\"black\" points=\"360.26,-78.06 356.13,-68.3 353.27,-78.5 360.26,-78.06\"/>\r\n",
       "</g>\r\n",
       "<!-- 6 -->\r\n",
       "<g id=\"node7\" class=\"node\">\r\n",
       "<title>6</title>\r\n",
       "<path fill=\"#4ba6e7\" stroke=\"black\" d=\"M540,-68C540,-68 442,-68 442,-68 436,-68 430,-62 430,-56 430,-56 430,-12 430,-12 430,-6 436,0 442,0 442,0 540,0 540,0 546,0 552,-6 552,-12 552,-12 552,-56 552,-56 552,-62 546,-68 540,-68\"/>\r\n",
       "<text text-anchor=\"middle\" x=\"491\" y=\"-52.8\" font-family=\"Helvetica,sans-Serif\" font-size=\"14.00\">entropy = 0.413</text>\r\n",
       "<text text-anchor=\"middle\" x=\"491\" y=\"-37.8\" font-family=\"Helvetica,sans-Serif\" font-size=\"14.00\">samples = 301</text>\r\n",
       "<text text-anchor=\"middle\" x=\"491\" y=\"-22.8\" font-family=\"Helvetica,sans-Serif\" font-size=\"14.00\">value = [25, 276]</text>\r\n",
       "<text text-anchor=\"middle\" x=\"491\" y=\"-7.8\" font-family=\"Helvetica,sans-Serif\" font-size=\"14.00\">class = bad</text>\r\n",
       "</g>\r\n",
       "<!-- 4&#45;&gt;6 -->\r\n",
       "<g id=\"edge6\" class=\"edge\">\r\n",
       "<title>4&#45;&gt;6</title>\r\n",
       "<path fill=\"none\" stroke=\"black\" d=\"M409.41,-103.73C420.56,-94.33 432.41,-84.35 443.53,-74.99\"/>\r\n",
       "<polygon fill=\"black\" stroke=\"black\" points=\"446.07,-77.42 451.47,-68.3 441.56,-72.06 446.07,-77.42\"/>\r\n",
       "</g>\r\n",
       "</g>\r\n",
       "</svg>\r\n"
      ],
      "text/plain": [
       "<graphviz.files.Source at 0x2c3663b6ac0>"
      ]
     },
     "execution_count": 64,
     "metadata": {},
     "output_type": "execute_result"
    }
   ],
   "source": [
    "dot_data = export_graphviz(dt, out_file=None, \n",
    "    feature_names=column_names,  \n",
    "    class_names=credit_clean['Approve'].unique(),  \n",
    "    filled=True, rounded=True,  \n",
    "    special_characters=False)\n",
    "graph = graphviz.Source(dot_data)\n",
    "graph"
   ]
  },
  {
   "cell_type": "markdown",
   "metadata": {},
   "source": [
    "An alternative way to visualise the tree is to open the output .dot file with an editor such as [this online .dot renderer](http://dreampuf.github.io/GraphvizOnline/). You can use the code below to create a dot-file and then copy and paste its contents into the online site (you can double click on the tree once it has been produced to view it in full screen)."
   ]
  },
  {
   "cell_type": "code",
   "execution_count": 65,
   "metadata": {},
   "outputs": [],
   "source": [
    "with open(\"tree.dot\", 'w') as f:\n",
    "    f = export_graphviz(dt, out_file=f,\n",
    "                        feature_names=column_names,  \n",
    "                        class_names=credit_clean['Approve'].unique(),  \n",
    "                        filled=True, rounded=True,  \n",
    "                        special_characters=False)"
   ]
  },
  {
   "cell_type": "markdown",
   "metadata": {},
   "source": [
    "### ========== Question 1.13 ==========\n",
    "Inspect the tree and\n",
    " 1. describe what it shows, explaining how you interpret any one-hot encoded data\n",
    " 1. indicate which is the attribute with the highest information gain."
   ]
  },
  {
   "cell_type": "markdown",
   "metadata": {},
   "source": [
    "***Your answer goes here:***\n",
    "\n",
    "It shows a division of attributes by entropy, and splits one-hot encoded data with each one-hot column being its own sub-attribute of the original. Each box contains the parameters of what that box is divided from the level above it. The attribute with the highest information gain is the \"checkingaccount_none <= 0.5\" attribute, the split of which causes the single highest reduction in entropy across the tree and leads to the lowest entropy node."
   ]
  },
  {
   "cell_type": "markdown",
   "metadata": {},
   "source": [
    "### ========== Question 1.14 ==========\n",
    "Tree-based estimators (i.e. decision trees and random forests) can be used to compute feature importances. The importance of a feature is computed as the (normalized) total reduction of entropy (or other used `criterion`) brought by that feature. Find the relevant attributes of the classifier you just trained (i.e. those which are actually used in this short tree) and display feature importances along with their names."
   ]
  },
  {
   "cell_type": "code",
   "execution_count": 87,
   "metadata": {},
   "outputs": [
    {
     "data": {
      "text/html": [
       "<div>\n",
       "<style scoped>\n",
       "    .dataframe tbody tr th:only-of-type {\n",
       "        vertical-align: middle;\n",
       "    }\n",
       "\n",
       "    .dataframe tbody tr th {\n",
       "        vertical-align: top;\n",
       "    }\n",
       "\n",
       "    .dataframe thead th {\n",
       "        text-align: right;\n",
       "    }\n",
       "</style>\n",
       "<table border=\"1\" class=\"dataframe\">\n",
       "  <thead>\n",
       "    <tr style=\"text-align: right;\">\n",
       "      <th></th>\n",
       "      <th>category</th>\n",
       "      <th>importance</th>\n",
       "    </tr>\n",
       "  </thead>\n",
       "  <tbody>\n",
       "    <tr>\n",
       "      <th>0</th>\n",
       "      <td>Duration</td>\n",
       "      <td>0.160734</td>\n",
       "    </tr>\n",
       "    <tr>\n",
       "      <th>6</th>\n",
       "      <td>CheckingAccount_none</td>\n",
       "      <td>0.717619</td>\n",
       "    </tr>\n",
       "    <tr>\n",
       "      <th>52</th>\n",
       "      <td>OtherPlans_none</td>\n",
       "      <td>0.121647</td>\n",
       "    </tr>\n",
       "  </tbody>\n",
       "</table>\n",
       "</div>"
      ],
      "text/plain": [
       "                category  importance\n",
       "0               Duration    0.160734\n",
       "6   CheckingAccount_none    0.717619\n",
       "52       OtherPlans_none    0.121647"
      ]
     },
     "execution_count": 87,
     "metadata": {},
     "output_type": "execute_result"
    }
   ],
   "source": [
    "# Your Code goes here:\n",
    "importance_list = zip(column_names, dt.feature_importances_)\n",
    "temp = pd.DataFrame(importance_list, columns = ['category', 'importance'])\n",
    "temp[temp.importance > 0]"
   ]
  },
  {
   "cell_type": "markdown",
   "metadata": {},
   "source": [
    "### ========== Question 1.15 ==========\n",
    "Now we want to evaluate the performance of the classifier on unseen data. Use the trained model to predict the target variables for the test data set. Display the classification accuracy for both the training and test data sets. What do you observe? Are you surprised by the results?"
   ]
  },
  {
   "cell_type": "code",
   "execution_count": 90,
   "metadata": {},
   "outputs": [
    {
     "name": "stdout",
     "output_type": "stream",
     "text": [
      "0.6944444444444444 0.75\n"
     ]
    }
   ],
   "source": [
    "# Your Code goes here:\n",
    "accuracy_train = dt.score(X_train, y_train)\n",
    "accuracy_test = dt.score(X_test, y_test)\n",
    "print(accuracy_train, accuracy_test)"
   ]
  },
  {
   "cell_type": "code",
   "execution_count": 110,
   "metadata": {},
   "outputs": [
    {
     "data": {
      "text/html": [
       "<div>\n",
       "<style scoped>\n",
       "    .dataframe tbody tr th:only-of-type {\n",
       "        vertical-align: middle;\n",
       "    }\n",
       "\n",
       "    .dataframe tbody tr th {\n",
       "        vertical-align: top;\n",
       "    }\n",
       "\n",
       "    .dataframe thead th {\n",
       "        text-align: right;\n",
       "    }\n",
       "</style>\n",
       "<table border=\"1\" class=\"dataframe\">\n",
       "  <thead>\n",
       "    <tr style=\"text-align: right;\">\n",
       "      <th></th>\n",
       "      <th>CheckingAccount</th>\n",
       "      <th>Duration</th>\n",
       "      <th>CreditHistory</th>\n",
       "      <th>Purpose</th>\n",
       "      <th>CreditAmount</th>\n",
       "      <th>SavingsAccount</th>\n",
       "      <th>YearsEmployed</th>\n",
       "      <th>InstallmentRate</th>\n",
       "      <th>PersonalStatus</th>\n",
       "      <th>OtherDebtors</th>\n",
       "      <th>ResidentSince</th>\n",
       "      <th>Property</th>\n",
       "      <th>Age</th>\n",
       "      <th>OtherPlans</th>\n",
       "      <th>Housing</th>\n",
       "      <th>NumCreditsAtBank</th>\n",
       "      <th>Job</th>\n",
       "      <th>Dependents</th>\n",
       "      <th>Telephone</th>\n",
       "      <th>Foreign</th>\n",
       "    </tr>\n",
       "    <tr>\n",
       "      <th>Approve</th>\n",
       "      <th></th>\n",
       "      <th></th>\n",
       "      <th></th>\n",
       "      <th></th>\n",
       "      <th></th>\n",
       "      <th></th>\n",
       "      <th></th>\n",
       "      <th></th>\n",
       "      <th></th>\n",
       "      <th></th>\n",
       "      <th></th>\n",
       "      <th></th>\n",
       "      <th></th>\n",
       "      <th></th>\n",
       "      <th></th>\n",
       "      <th></th>\n",
       "      <th></th>\n",
       "      <th></th>\n",
       "      <th></th>\n",
       "      <th></th>\n",
       "    </tr>\n",
       "  </thead>\n",
       "  <tbody>\n",
       "    <tr>\n",
       "      <th>bad</th>\n",
       "      <td>300</td>\n",
       "      <td>300</td>\n",
       "      <td>300</td>\n",
       "      <td>300</td>\n",
       "      <td>300</td>\n",
       "      <td>300</td>\n",
       "      <td>300</td>\n",
       "      <td>300</td>\n",
       "      <td>300</td>\n",
       "      <td>300</td>\n",
       "      <td>300</td>\n",
       "      <td>300</td>\n",
       "      <td>300</td>\n",
       "      <td>300</td>\n",
       "      <td>300</td>\n",
       "      <td>300</td>\n",
       "      <td>300</td>\n",
       "      <td>300</td>\n",
       "      <td>300</td>\n",
       "      <td>300</td>\n",
       "    </tr>\n",
       "    <tr>\n",
       "      <th>good</th>\n",
       "      <td>700</td>\n",
       "      <td>700</td>\n",
       "      <td>700</td>\n",
       "      <td>700</td>\n",
       "      <td>700</td>\n",
       "      <td>700</td>\n",
       "      <td>700</td>\n",
       "      <td>700</td>\n",
       "      <td>700</td>\n",
       "      <td>700</td>\n",
       "      <td>700</td>\n",
       "      <td>700</td>\n",
       "      <td>700</td>\n",
       "      <td>700</td>\n",
       "      <td>700</td>\n",
       "      <td>700</td>\n",
       "      <td>700</td>\n",
       "      <td>700</td>\n",
       "      <td>700</td>\n",
       "      <td>700</td>\n",
       "    </tr>\n",
       "  </tbody>\n",
       "</table>\n",
       "</div>"
      ],
      "text/plain": [
       "         CheckingAccount  Duration  CreditHistory  Purpose  CreditAmount  \\\n",
       "Approve                                                                    \n",
       "bad                  300       300            300      300           300   \n",
       "good                 700       700            700      700           700   \n",
       "\n",
       "         SavingsAccount  YearsEmployed  InstallmentRate  PersonalStatus  \\\n",
       "Approve                                                                   \n",
       "bad                 300            300              300             300   \n",
       "good                700            700              700             700   \n",
       "\n",
       "         OtherDebtors  ResidentSince  Property  Age  OtherPlans  Housing  \\\n",
       "Approve                                                                    \n",
       "bad               300            300       300  300         300      300   \n",
       "good              700            700       700  700         700      700   \n",
       "\n",
       "         NumCreditsAtBank  Job  Dependents  Telephone  Foreign  \n",
       "Approve                                                         \n",
       "bad                   300  300         300        300      300  \n",
       "good                  700  700         700        700      700  "
      ]
     },
     "execution_count": 110,
     "metadata": {},
     "output_type": "execute_result"
    }
   ],
   "source": [
    "credit_clean.groupby('Approve').count()"
   ]
  },
  {
   "cell_type": "markdown",
   "metadata": {},
   "source": [
    "**However, the very astute will make an observation:** *Hint: Have a look at the class distribution in the dataset.*"
   ]
  },
  {
   "cell_type": "code",
   "execution_count": 111,
   "metadata": {},
   "outputs": [
    {
     "name": "stderr",
     "output_type": "stream",
     "text": [
      "C:\\Users\\Chris\\anaconda3\\envs\\py3iaml\\lib\\site-packages\\seaborn\\_decorators.py:36: FutureWarning: Pass the following variable as a keyword arg: x. From version 0.12, the only valid positional argument will be `data`, and passing other arguments without an explicit keyword will result in an error or misinterpretation.\n",
      "  warnings.warn(\n",
      "C:\\Users\\Chris\\anaconda3\\envs\\py3iaml\\lib\\site-packages\\seaborn\\_decorators.py:36: FutureWarning: Pass the following variable as a keyword arg: x. From version 0.12, the only valid positional argument will be `data`, and passing other arguments without an explicit keyword will result in an error or misinterpretation.\n",
      "  warnings.warn(\n"
     ]
    },
    {
     "data": {
      "image/png": "[encoded data removed]",
      "text/plain": [
       "<Figure size 576x288 with 2 Axes>"
      ]
     },
     "metadata": {
      "needs_background": "light"
     },
     "output_type": "display_data"
    }
   ],
   "source": [
    "fig, (ax1, ax2) = plt.subplots(1,2, figsize=(8,4))\n",
    "sns.countplot(y_train, ax=ax1)\n",
    "ax1.set_title('Training set', size=12)\n",
    "ax1.set_xlabel(' ')\n",
    "sns.countplot(y_test, ax=ax2)\n",
    "ax2.set_xlabel(' ')\n",
    "ax2.set_ylabel('')\n",
    "ax2.set_title('Validation set', size=12)\n",
    "fig.suptitle('Target distribution', size=12)\n",
    "plt.show()"
   ]
  },
  {
   "cell_type": "markdown",
   "metadata": {},
   "source": [
    "The dummy classifier of predicting everything as 'good' **will beat this model (75% accuracy on Validation Set)!** In other words, our model is worse than the baseline. **Always compare your models with very simple baselines**."
   ]
  },
  {
   "cell_type": "markdown",
   "metadata": {},
   "source": [
    "### ========== Question 1.16 ==========\n",
    "\n",
    "Fit another `DecisionTreeClassifier` but this time grow it to full depth (i.e. remove the max_depth condition). Again, use a `random_state=1000`. Display the classification accuracy for training and test data as above. Again, what do you observe and are you surprised?"
   ]
  },
  {
   "cell_type": "code",
   "execution_count": 112,
   "metadata": {},
   "outputs": [
    {
     "name": "stdout",
     "output_type": "stream",
     "text": [
      "1.0 0.67\n"
     ]
    }
   ],
   "source": [
    "# Your Code goes here:\n",
    "dt = DecisionTreeClassifier(criterion = 'entropy', random_state = 1000)\n",
    "dt = dt.fit(X_train, y_train)\n",
    "accuracy_train = dt.score(X_train, y_train)\n",
    "accuracy_test = dt.score(X_test, y_test)\n",
    "print(accuracy_train, accuracy_test)"
   ]
  },
  {
   "cell_type": "markdown",
   "metadata": {},
   "source": [
    "***Your answer goes here:***\n",
    "\n",
    "Training accuracy goes to 100% indicating it has overfit, and as a result the testing performance has suffered."
   ]
  },
  {
   "cell_type": "markdown",
   "metadata": {},
   "source": [
    "### ========== Question 1.17 ==========\n",
    "By using seaborn's heatmap function, plot the normalised confusion matrices for both the training and test data sets **for the max_depth=3 decision tree from question 1.12**. Make sure you label axes appropriately. *Hint: You can make use of the `plot_confusion_matrix` function introduced in a previous lab, reproduced below.*"
   ]
  },
  {
   "cell_type": "code",
   "execution_count": 113,
   "metadata": {},
   "outputs": [],
   "source": [
    "def plot_confusion_matrix(cm, classes=None, title='Confusion matrix'):\n",
    "    \"\"\"Plots a confusion matrix.\"\"\"\n",
    "    if classes is not None:\n",
    "        sns.heatmap(cm, xticklabels=classes, yticklabels=classes, vmin=0., vmax=1., annot=True)\n",
    "    else:\n",
    "        sns.heatmap(cm, vmin=0., vmax=1.)\n",
    "    plt.title(title)\n",
    "    plt.ylabel('True label')\n",
    "    plt.xlabel('Predicted label')"
   ]
  },
  {
   "cell_type": "code",
   "execution_count": 135,
   "metadata": {},
   "outputs": [
    {
     "name": "stderr",
     "output_type": "stream",
     "text": [
      "C:\\Users\\Chris\\AppData\\Local\\Temp/ipykernel_11328/1080743896.py:3: DeprecationWarning: `np.float` is a deprecated alias for the builtin `float`. To silence this warning, use `float` by itself. Doing this will not modify any behavior and is safe. If you specifically wanted the numpy scalar type, use `np.float64` here.\n",
      "Deprecated in NumPy 1.20; for more details and guidance: https://numpy.org/devdocs/release/1.20.0-notes.html#deprecations\n",
      "  normalized_matrix = confusion/ confusion.astype(np.float).sum(axis=1)\n"
     ]
    },
    {
     "data": {
      "image/png": "[encoded data removed]",
      "text/plain": [
       "<Figure size 432x288 with 2 Axes>"
      ]
     },
     "metadata": {
      "needs_background": "light"
     },
     "output_type": "display_data"
    }
   ],
   "source": [
    "# Normalised Data\n",
    "confusion = confusion_matrix(y_train, score_train)\n",
    "normalized_matrix = confusion/ confusion.astype(np.float).sum(axis=1)\n",
    "plot_confusion_matrix(normalized_matrix, ['True', 'False'])\n",
    "# Your Code goes here:"
   ]
  },
  {
   "cell_type": "code",
   "execution_count": 136,
   "metadata": {},
   "outputs": [
    {
     "name": "stderr",
     "output_type": "stream",
     "text": [
      "C:\\Users\\Chris\\AppData\\Local\\Temp/ipykernel_11328/17639015.py:3: DeprecationWarning: `np.float` is a deprecated alias for the builtin `float`. To silence this warning, use `float` by itself. Doing this will not modify any behavior and is safe. If you specifically wanted the numpy scalar type, use `np.float64` here.\n",
      "Deprecated in NumPy 1.20; for more details and guidance: https://numpy.org/devdocs/release/1.20.0-notes.html#deprecations\n",
      "  normalized_matrix = confusion/ confusion.astype(np.float).sum(axis=1)\n"
     ]
    },
    {
     "data": {
      "image/png": "[encoded data removed]",
      "text/plain": [
       "<Figure size 432x288 with 2 Axes>"
      ]
     },
     "metadata": {
      "needs_background": "light"
     },
     "output_type": "display_data"
    }
   ],
   "source": [
    "# Validation Data\n",
    "confusion = confusion_matrix(y_test, score_test)\n",
    "normalized_matrix = confusion/ confusion.astype(np.float).sum(axis=1)\n",
    "plot_confusion_matrix(normalized_matrix, ['True', 'False'])\n",
    "# Your Code goes here:"
   ]
  },
  {
   "cell_type": "markdown",
   "metadata": {},
   "source": [
    "**N.B. it will be obvious if you have plotted the full depth decision tree as the training confusion matrix will be the identity**"
   ]
  },
  {
   "cell_type": "markdown",
   "metadata": {},
   "source": [
    "### ========== Question 1.18 ==========\n",
    "\n",
    "Finally we will create a [`Random decision forest`](http://scikit-learn.org/0.24/modules/generated/sklearn.ensemble.RandomForestClassifier.html) classifier and compare the performance of this classifier to that of the decision tree. The random decision forest is an ensemble classifier that consists of many decision trees and outputs the class that is the mode of the class's output by individual trees. Start with `n_estimators = 100`, use the `entropy` criterion and the same train/test split as before. Plot the classification accuracy of the random forest model on the test set and show the confusion matrix. How does the random decision forest compare performance wise to the decision tree?"
   ]
  },
  {
   "cell_type": "code",
   "execution_count": 156,
   "metadata": {},
   "outputs": [
    {
     "name": "stderr",
     "output_type": "stream",
     "text": [
      "C:\\Users\\Chris\\AppData\\Local\\Temp/ipykernel_11328/1843864807.py:8: DeprecationWarning: `np.float` is a deprecated alias for the builtin `float`. To silence this warning, use `float` by itself. Doing this will not modify any behavior and is safe. If you specifically wanted the numpy scalar type, use `np.float64` here.\n",
      "Deprecated in NumPy 1.20; for more details and guidance: https://numpy.org/devdocs/release/1.20.0-notes.html#deprecations\n",
      "  normalized_matrix = confusion/ confusion.astype(np.float).sum(axis=1)\n"
     ]
    },
    {
     "data": {
      "image/png": "[encoded data removed]",
      "text/plain": [
       "<Figure size 432x288 with 2 Axes>"
      ]
     },
     "metadata": {
      "needs_background": "light"
     },
     "output_type": "display_data"
    }
   ],
   "source": [
    "# Your Code goes here:\n",
    "rf = RandomForestClassifier(n_estimators = 100, criterion='entropy')\n",
    "rf.fit(X_train, y_train)\n",
    "\n",
    "predictions = rf.predict(X_test)\n",
    "\n",
    "confusion = confusion_matrix(y_test, predictions)\n",
    "normalized_matrix = confusion/ confusion.astype(np.float).sum(axis=1)\n",
    "plot_confusion_matrix(normalized_matrix, ['True', 'False'])\n"
   ]
  },
  {
   "cell_type": "markdown",
   "metadata": {},
   "source": [
    "### ========== Question 1.19 ==========\n",
    "How high can you get the performance of the classifier by changing the max depth of the trees (`max_depth`), or the `max_features` parameters? Try a few values just to get a look. *Don't do a grid search or anything in-depth, just get a feel*. Try the same settings twice...do you get the same accuracy?"
   ]
  },
  {
   "cell_type": "code",
   "execution_count": 155,
   "metadata": {},
   "outputs": [
    {
     "name": "stderr",
     "output_type": "stream",
     "text": [
      "C:\\Users\\Chris\\AppData\\Local\\Temp/ipykernel_11328/49724935.py:9: DeprecationWarning: `np.float` is a deprecated alias for the builtin `float`. To silence this warning, use `float` by itself. Doing this will not modify any behavior and is safe. If you specifically wanted the numpy scalar type, use `np.float64` here.\n",
      "Deprecated in NumPy 1.20; for more details and guidance: https://numpy.org/devdocs/release/1.20.0-notes.html#deprecations\n",
      "  normalized_matrix = confusion/ confusion.astype(np.float).sum(axis=1)\n"
     ]
    },
    {
     "data": {
      "image/png": "[encoded data removed]",
      "text/plain": [
       "<Figure size 432x288 with 2 Axes>"
      ]
     },
     "metadata": {
      "needs_background": "light"
     },
     "output_type": "display_data"
    }
   ],
   "source": [
    "# Your Code goes here:\n",
    "rf = RandomForestClassifier(n_estimators = 100, max_depth = 150, max_features = 25, criterion='entropy')\n",
    "rf.fit(X_train, y_train)\n",
    "\n",
    "predictions = rf.predict(X_test)\n",
    "\n",
    "confusion = confusion_matrix(y_test, predictions)\n",
    "normalized_matrix = confusion/ confusion.astype(np.float).sum(axis=1)\n",
    "plot_confusion_matrix(normalized_matrix, ['True', 'False'])\n"
   ]
  },
  {
   "cell_type": "markdown",
   "metadata": {},
   "source": [
    "N.B. Observing these confusion matrices you'll see something very important - for some configurations, the Random Forest **always predicts the majority class**: incidentally these are also the cases which do the best. This highlights (again) the importance of always checking performance against a dummy classifier!!!\n",
    "\n",
    "Additionally, if you want to reproduce your results, you must set the random seed (you can do this with the `random_state` argument). Random forests are...random!"
   ]
  },
  {
   "cell_type": "markdown",
   "metadata": {},
   "source": [
    "### ========== Question 1.20 ==========\n",
    "Compare the feature importances as estimated with the decision tree and random forest classifiers."
   ]
  },
  {
   "cell_type": "code",
   "execution_count": 157,
   "metadata": {},
   "outputs": [
    {
     "data": {
      "text/html": [
       "<div>\n",
       "<style scoped>\n",
       "    .dataframe tbody tr th:only-of-type {\n",
       "        vertical-align: middle;\n",
       "    }\n",
       "\n",
       "    .dataframe tbody tr th {\n",
       "        vertical-align: top;\n",
       "    }\n",
       "\n",
       "    .dataframe thead th {\n",
       "        text-align: right;\n",
       "    }\n",
       "</style>\n",
       "<table border=\"1\" class=\"dataframe\">\n",
       "  <thead>\n",
       "    <tr style=\"text-align: right;\">\n",
       "      <th></th>\n",
       "      <th>category</th>\n",
       "      <th>importance</th>\n",
       "    </tr>\n",
       "  </thead>\n",
       "  <tbody>\n",
       "    <tr>\n",
       "      <th>0</th>\n",
       "      <td>Duration</td>\n",
       "      <td>0.117385</td>\n",
       "    </tr>\n",
       "    <tr>\n",
       "      <th>2</th>\n",
       "      <td>Age</td>\n",
       "      <td>0.045800</td>\n",
       "    </tr>\n",
       "    <tr>\n",
       "      <th>3</th>\n",
       "      <td>CheckingAccount_&lt;0</td>\n",
       "      <td>0.093813</td>\n",
       "    </tr>\n",
       "    <tr>\n",
       "      <th>6</th>\n",
       "      <td>CheckingAccount_none</td>\n",
       "      <td>0.524081</td>\n",
       "    </tr>\n",
       "    <tr>\n",
       "      <th>7</th>\n",
       "      <td>CreditHistory_critical</td>\n",
       "      <td>0.071618</td>\n",
       "    </tr>\n",
       "    <tr>\n",
       "      <th>9</th>\n",
       "      <td>CreditHistory_ok_at_this_bank</td>\n",
       "      <td>0.058463</td>\n",
       "    </tr>\n",
       "    <tr>\n",
       "      <th>52</th>\n",
       "      <td>OtherPlans_none</td>\n",
       "      <td>0.088839</td>\n",
       "    </tr>\n",
       "  </tbody>\n",
       "</table>\n",
       "</div>"
      ],
      "text/plain": [
       "                         category  importance\n",
       "0                        Duration    0.117385\n",
       "2                             Age    0.045800\n",
       "3              CheckingAccount_<0    0.093813\n",
       "6            CheckingAccount_none    0.524081\n",
       "7          CreditHistory_critical    0.071618\n",
       "9   CreditHistory_ok_at_this_bank    0.058463\n",
       "52                OtherPlans_none    0.088839"
      ]
     },
     "execution_count": 157,
     "metadata": {},
     "output_type": "execute_result"
    }
   ],
   "source": [
    "# Your Code goes here:\n",
    "importance_list_dt = zip(column_names, dt.feature_importances_)\n",
    "importance_list_rf = zip(column_names, rf.feature_importances_)\n",
    "\n",
    "temp = pd.DataFrame(importance_list_dt, columns = ['category', 'importance'])\n",
    "temp[temp.importance > 0]"
   ]
  },
  {
   "cell_type": "code",
   "execution_count": 159,
   "metadata": {},
   "outputs": [
    {
     "data": {
      "text/html": [
       "<div>\n",
       "<style scoped>\n",
       "    .dataframe tbody tr th:only-of-type {\n",
       "        vertical-align: middle;\n",
       "    }\n",
       "\n",
       "    .dataframe tbody tr th {\n",
       "        vertical-align: top;\n",
       "    }\n",
       "\n",
       "    .dataframe thead th {\n",
       "        text-align: right;\n",
       "    }\n",
       "</style>\n",
       "<table border=\"1\" class=\"dataframe\">\n",
       "  <thead>\n",
       "    <tr style=\"text-align: right;\">\n",
       "      <th></th>\n",
       "      <th>category</th>\n",
       "      <th>importance</th>\n",
       "    </tr>\n",
       "  </thead>\n",
       "  <tbody>\n",
       "    <tr>\n",
       "      <th>0</th>\n",
       "      <td>Duration</td>\n",
       "      <td>0.077648</td>\n",
       "    </tr>\n",
       "    <tr>\n",
       "      <th>1</th>\n",
       "      <td>CreditAmount</td>\n",
       "      <td>0.084978</td>\n",
       "    </tr>\n",
       "    <tr>\n",
       "      <th>2</th>\n",
       "      <td>Age</td>\n",
       "      <td>0.073544</td>\n",
       "    </tr>\n",
       "    <tr>\n",
       "      <th>3</th>\n",
       "      <td>CheckingAccount_&lt;0</td>\n",
       "      <td>0.038144</td>\n",
       "    </tr>\n",
       "    <tr>\n",
       "      <th>4</th>\n",
       "      <td>CheckingAccount_&lt;200</td>\n",
       "      <td>0.016459</td>\n",
       "    </tr>\n",
       "    <tr>\n",
       "      <th>...</th>\n",
       "      <td>...</td>\n",
       "      <td>...</td>\n",
       "    </tr>\n",
       "    <tr>\n",
       "      <th>66</th>\n",
       "      <td>Dependents_2.0</td>\n",
       "      <td>0.010092</td>\n",
       "    </tr>\n",
       "    <tr>\n",
       "      <th>67</th>\n",
       "      <td>Telephone_no</td>\n",
       "      <td>0.013049</td>\n",
       "    </tr>\n",
       "    <tr>\n",
       "      <th>68</th>\n",
       "      <td>Telephone_yes</td>\n",
       "      <td>0.013892</td>\n",
       "    </tr>\n",
       "    <tr>\n",
       "      <th>69</th>\n",
       "      <td>Foreign_no</td>\n",
       "      <td>0.002721</td>\n",
       "    </tr>\n",
       "    <tr>\n",
       "      <th>70</th>\n",
       "      <td>Foreign_yes</td>\n",
       "      <td>0.002414</td>\n",
       "    </tr>\n",
       "  </tbody>\n",
       "</table>\n",
       "<p>71 rows × 2 columns</p>\n",
       "</div>"
      ],
      "text/plain": [
       "                category  importance\n",
       "0               Duration    0.077648\n",
       "1           CreditAmount    0.084978\n",
       "2                    Age    0.073544\n",
       "3     CheckingAccount_<0    0.038144\n",
       "4   CheckingAccount_<200    0.016459\n",
       "..                   ...         ...\n",
       "66        Dependents_2.0    0.010092\n",
       "67          Telephone_no    0.013049\n",
       "68         Telephone_yes    0.013892\n",
       "69            Foreign_no    0.002721\n",
       "70           Foreign_yes    0.002414\n",
       "\n",
       "[71 rows x 2 columns]"
      ]
     },
     "execution_count": 159,
     "metadata": {},
     "output_type": "execute_result"
    }
   ],
   "source": [
    "temp = pd.DataFrame(importance_list_rf, columns = ['category', 'importance'])\n",
    "temp[temp.importance > 0]"
   ]
  },
  {
   "cell_type": "markdown",
   "metadata": {},
   "source": [
    "## 2. Linear regression\n",
    "In the second part of the lab we use the [CPU performance](https://archive.ics.uci.edu/ml/datasets/Computer+Hardware) dataset for a simple regression task. Famliarise yourself with the dataset before moving on to the next step. Note that the version we will be using is missing the `Model Name` and `PRP` attributes. Our task will be to use the remaining attributes to predict `ERP` values.\n",
    "\n",
    "Download the dataset and save it in a directory called `datasets` in the same folder that your notebooks live. Alternatively, you can save the dataset in any folder you wish and modify the `data_path` variable below accordingly. We will load our data into a pandas DataFrame structure. "
   ]
  },
  {
   "cell_type": "code",
   "execution_count": 160,
   "metadata": {},
   "outputs": [],
   "source": [
    "# Load the dataset\n",
    "data_path = os.path.join(os.getcwd(), 'datasets', 'cpu.csv')\n",
    "cpu = pd.read_csv(data_path, delimiter = ',')"
   ]
  },
  {
   "cell_type": "markdown",
   "metadata": {},
   "source": [
    "### ========== Question 2.1 ==========\n",
    "Display the number of data points and attributes in the dataset. "
   ]
  },
  {
   "cell_type": "code",
   "execution_count": 162,
   "metadata": {},
   "outputs": [
    {
     "data": {
      "text/plain": [
       "209"
      ]
     },
     "execution_count": 162,
     "metadata": {},
     "output_type": "execute_result"
    }
   ],
   "source": [
    "# Your Code goes here:\n",
    "cpu.shape[0]"
   ]
  },
  {
   "cell_type": "markdown",
   "metadata": {},
   "source": [
    "### ========== Question 2.2 ==========\n",
    "Get a feeling of the data by using pandas `describe()` method. "
   ]
  },
  {
   "cell_type": "code",
   "execution_count": 163,
   "metadata": {},
   "outputs": [
    {
     "data": {
      "text/html": [
       "<div>\n",
       "<style scoped>\n",
       "    .dataframe tbody tr th:only-of-type {\n",
       "        vertical-align: middle;\n",
       "    }\n",
       "\n",
       "    .dataframe tbody tr th {\n",
       "        vertical-align: top;\n",
       "    }\n",
       "\n",
       "    .dataframe thead th {\n",
       "        text-align: right;\n",
       "    }\n",
       "</style>\n",
       "<table border=\"1\" class=\"dataframe\">\n",
       "  <thead>\n",
       "    <tr style=\"text-align: right;\">\n",
       "      <th></th>\n",
       "      <th>MYCT</th>\n",
       "      <th>MMIN</th>\n",
       "      <th>MMAX</th>\n",
       "      <th>CACH</th>\n",
       "      <th>CHMIN</th>\n",
       "      <th>CHMAX</th>\n",
       "      <th>ERP</th>\n",
       "    </tr>\n",
       "  </thead>\n",
       "  <tbody>\n",
       "    <tr>\n",
       "      <th>count</th>\n",
       "      <td>209.000000</td>\n",
       "      <td>209.000000</td>\n",
       "      <td>209.000000</td>\n",
       "      <td>209.000000</td>\n",
       "      <td>209.000000</td>\n",
       "      <td>209.000000</td>\n",
       "      <td>209.000000</td>\n",
       "    </tr>\n",
       "    <tr>\n",
       "      <th>mean</th>\n",
       "      <td>203.822967</td>\n",
       "      <td>2867.980861</td>\n",
       "      <td>11796.153110</td>\n",
       "      <td>25.205742</td>\n",
       "      <td>4.698565</td>\n",
       "      <td>18.267943</td>\n",
       "      <td>99.330144</td>\n",
       "    </tr>\n",
       "    <tr>\n",
       "      <th>std</th>\n",
       "      <td>260.262926</td>\n",
       "      <td>3878.742758</td>\n",
       "      <td>11726.564377</td>\n",
       "      <td>40.628722</td>\n",
       "      <td>6.816274</td>\n",
       "      <td>25.997318</td>\n",
       "      <td>154.757102</td>\n",
       "    </tr>\n",
       "    <tr>\n",
       "      <th>min</th>\n",
       "      <td>17.000000</td>\n",
       "      <td>64.000000</td>\n",
       "      <td>64.000000</td>\n",
       "      <td>0.000000</td>\n",
       "      <td>0.000000</td>\n",
       "      <td>0.000000</td>\n",
       "      <td>15.000000</td>\n",
       "    </tr>\n",
       "    <tr>\n",
       "      <th>25%</th>\n",
       "      <td>50.000000</td>\n",
       "      <td>768.000000</td>\n",
       "      <td>4000.000000</td>\n",
       "      <td>0.000000</td>\n",
       "      <td>1.000000</td>\n",
       "      <td>5.000000</td>\n",
       "      <td>28.000000</td>\n",
       "    </tr>\n",
       "    <tr>\n",
       "      <th>50%</th>\n",
       "      <td>110.000000</td>\n",
       "      <td>2000.000000</td>\n",
       "      <td>8000.000000</td>\n",
       "      <td>8.000000</td>\n",
       "      <td>2.000000</td>\n",
       "      <td>8.000000</td>\n",
       "      <td>45.000000</td>\n",
       "    </tr>\n",
       "    <tr>\n",
       "      <th>75%</th>\n",
       "      <td>225.000000</td>\n",
       "      <td>4000.000000</td>\n",
       "      <td>16000.000000</td>\n",
       "      <td>32.000000</td>\n",
       "      <td>6.000000</td>\n",
       "      <td>24.000000</td>\n",
       "      <td>101.000000</td>\n",
       "    </tr>\n",
       "    <tr>\n",
       "      <th>max</th>\n",
       "      <td>1500.000000</td>\n",
       "      <td>32000.000000</td>\n",
       "      <td>64000.000000</td>\n",
       "      <td>256.000000</td>\n",
       "      <td>52.000000</td>\n",
       "      <td>176.000000</td>\n",
       "      <td>1238.000000</td>\n",
       "    </tr>\n",
       "  </tbody>\n",
       "</table>\n",
       "</div>"
      ],
      "text/plain": [
       "              MYCT          MMIN          MMAX        CACH       CHMIN  \\\n",
       "count   209.000000    209.000000    209.000000  209.000000  209.000000   \n",
       "mean    203.822967   2867.980861  11796.153110   25.205742    4.698565   \n",
       "std     260.262926   3878.742758  11726.564377   40.628722    6.816274   \n",
       "min      17.000000     64.000000     64.000000    0.000000    0.000000   \n",
       "25%      50.000000    768.000000   4000.000000    0.000000    1.000000   \n",
       "50%     110.000000   2000.000000   8000.000000    8.000000    2.000000   \n",
       "75%     225.000000   4000.000000  16000.000000   32.000000    6.000000   \n",
       "max    1500.000000  32000.000000  64000.000000  256.000000   52.000000   \n",
       "\n",
       "            CHMAX          ERP  \n",
       "count  209.000000   209.000000  \n",
       "mean    18.267943    99.330144  \n",
       "std     25.997318   154.757102  \n",
       "min      0.000000    15.000000  \n",
       "25%      5.000000    28.000000  \n",
       "50%      8.000000    45.000000  \n",
       "75%     24.000000   101.000000  \n",
       "max    176.000000  1238.000000  "
      ]
     },
     "execution_count": 163,
     "metadata": {},
     "output_type": "execute_result"
    }
   ],
   "source": [
    "# Your Code goes here:\n",
    "cpu.describe()"
   ]
  },
  {
   "cell_type": "markdown",
   "metadata": {},
   "source": [
    "### ========== Question 2.3 ==========\n",
    "Display the first 10 data points of the dataset"
   ]
  },
  {
   "cell_type": "code",
   "execution_count": 164,
   "metadata": {},
   "outputs": [
    {
     "data": {
      "text/html": [
       "<div>\n",
       "<style scoped>\n",
       "    .dataframe tbody tr th:only-of-type {\n",
       "        vertical-align: middle;\n",
       "    }\n",
       "\n",
       "    .dataframe tbody tr th {\n",
       "        vertical-align: top;\n",
       "    }\n",
       "\n",
       "    .dataframe thead th {\n",
       "        text-align: right;\n",
       "    }\n",
       "</style>\n",
       "<table border=\"1\" class=\"dataframe\">\n",
       "  <thead>\n",
       "    <tr style=\"text-align: right;\">\n",
       "      <th></th>\n",
       "      <th>vendor</th>\n",
       "      <th>MYCT</th>\n",
       "      <th>MMIN</th>\n",
       "      <th>MMAX</th>\n",
       "      <th>CACH</th>\n",
       "      <th>CHMIN</th>\n",
       "      <th>CHMAX</th>\n",
       "      <th>ERP</th>\n",
       "    </tr>\n",
       "  </thead>\n",
       "  <tbody>\n",
       "    <tr>\n",
       "      <th>0</th>\n",
       "      <td>adviser</td>\n",
       "      <td>125.0</td>\n",
       "      <td>256.0</td>\n",
       "      <td>6000.0</td>\n",
       "      <td>256.0</td>\n",
       "      <td>16.0</td>\n",
       "      <td>128.0</td>\n",
       "      <td>199.0</td>\n",
       "    </tr>\n",
       "    <tr>\n",
       "      <th>1</th>\n",
       "      <td>amdahl</td>\n",
       "      <td>29.0</td>\n",
       "      <td>8000.0</td>\n",
       "      <td>32000.0</td>\n",
       "      <td>32.0</td>\n",
       "      <td>8.0</td>\n",
       "      <td>32.0</td>\n",
       "      <td>253.0</td>\n",
       "    </tr>\n",
       "    <tr>\n",
       "      <th>2</th>\n",
       "      <td>amdahl</td>\n",
       "      <td>29.0</td>\n",
       "      <td>8000.0</td>\n",
       "      <td>32000.0</td>\n",
       "      <td>32.0</td>\n",
       "      <td>8.0</td>\n",
       "      <td>32.0</td>\n",
       "      <td>253.0</td>\n",
       "    </tr>\n",
       "    <tr>\n",
       "      <th>3</th>\n",
       "      <td>amdahl</td>\n",
       "      <td>29.0</td>\n",
       "      <td>8000.0</td>\n",
       "      <td>32000.0</td>\n",
       "      <td>32.0</td>\n",
       "      <td>8.0</td>\n",
       "      <td>32.0</td>\n",
       "      <td>253.0</td>\n",
       "    </tr>\n",
       "    <tr>\n",
       "      <th>4</th>\n",
       "      <td>amdahl</td>\n",
       "      <td>29.0</td>\n",
       "      <td>8000.0</td>\n",
       "      <td>16000.0</td>\n",
       "      <td>32.0</td>\n",
       "      <td>8.0</td>\n",
       "      <td>16.0</td>\n",
       "      <td>132.0</td>\n",
       "    </tr>\n",
       "    <tr>\n",
       "      <th>5</th>\n",
       "      <td>amdahl</td>\n",
       "      <td>26.0</td>\n",
       "      <td>8000.0</td>\n",
       "      <td>32000.0</td>\n",
       "      <td>64.0</td>\n",
       "      <td>8.0</td>\n",
       "      <td>32.0</td>\n",
       "      <td>290.0</td>\n",
       "    </tr>\n",
       "    <tr>\n",
       "      <th>6</th>\n",
       "      <td>amdahl</td>\n",
       "      <td>23.0</td>\n",
       "      <td>16000.0</td>\n",
       "      <td>32000.0</td>\n",
       "      <td>64.0</td>\n",
       "      <td>16.0</td>\n",
       "      <td>32.0</td>\n",
       "      <td>381.0</td>\n",
       "    </tr>\n",
       "    <tr>\n",
       "      <th>7</th>\n",
       "      <td>amdahl</td>\n",
       "      <td>23.0</td>\n",
       "      <td>16000.0</td>\n",
       "      <td>32000.0</td>\n",
       "      <td>64.0</td>\n",
       "      <td>16.0</td>\n",
       "      <td>32.0</td>\n",
       "      <td>381.0</td>\n",
       "    </tr>\n",
       "    <tr>\n",
       "      <th>8</th>\n",
       "      <td>amdahl</td>\n",
       "      <td>23.0</td>\n",
       "      <td>16000.0</td>\n",
       "      <td>64000.0</td>\n",
       "      <td>64.0</td>\n",
       "      <td>16.0</td>\n",
       "      <td>32.0</td>\n",
       "      <td>749.0</td>\n",
       "    </tr>\n",
       "    <tr>\n",
       "      <th>9</th>\n",
       "      <td>amdahl</td>\n",
       "      <td>23.0</td>\n",
       "      <td>32000.0</td>\n",
       "      <td>64000.0</td>\n",
       "      <td>128.0</td>\n",
       "      <td>32.0</td>\n",
       "      <td>64.0</td>\n",
       "      <td>1238.0</td>\n",
       "    </tr>\n",
       "  </tbody>\n",
       "</table>\n",
       "</div>"
      ],
      "text/plain": [
       "    vendor   MYCT     MMIN     MMAX   CACH  CHMIN  CHMAX     ERP\n",
       "0  adviser  125.0    256.0   6000.0  256.0   16.0  128.0   199.0\n",
       "1   amdahl   29.0   8000.0  32000.0   32.0    8.0   32.0   253.0\n",
       "2   amdahl   29.0   8000.0  32000.0   32.0    8.0   32.0   253.0\n",
       "3   amdahl   29.0   8000.0  32000.0   32.0    8.0   32.0   253.0\n",
       "4   amdahl   29.0   8000.0  16000.0   32.0    8.0   16.0   132.0\n",
       "5   amdahl   26.0   8000.0  32000.0   64.0    8.0   32.0   290.0\n",
       "6   amdahl   23.0  16000.0  32000.0   64.0   16.0   32.0   381.0\n",
       "7   amdahl   23.0  16000.0  32000.0   64.0   16.0   32.0   381.0\n",
       "8   amdahl   23.0  16000.0  64000.0   64.0   16.0   32.0   749.0\n",
       "9   amdahl   23.0  32000.0  64000.0  128.0   32.0   64.0  1238.0"
      ]
     },
     "execution_count": 164,
     "metadata": {},
     "output_type": "execute_result"
    }
   ],
   "source": [
    "# Your Code goes here:\n",
    "cpu.head(10)"
   ]
  },
  {
   "cell_type": "markdown",
   "metadata": {},
   "source": [
    "### ========== Question 2.4 ========== \n",
    "You might have noticed that the `vendor` attribute is categorical. This will give problems when using a linear regression model. For now we can simply remove this attribute. Create a new DataFrame called `cpu_clean` by copying `cpu` but omit the `vendor` attribute. Display the number of samples and attributes in the clean dataset as a sanity check."
   ]
  },
  {
   "cell_type": "code",
   "execution_count": 171,
   "metadata": {},
   "outputs": [
    {
     "name": "stdout",
     "output_type": "stream",
     "text": [
      "(209, 7)\n"
     ]
    }
   ],
   "source": [
    "# Your Code goes here:\n",
    "cpu_clean = cpu.drop(['vendor'], axis = 1)\n",
    "print(cpu_clean.shape)"
   ]
  },
  {
   "cell_type": "markdown",
   "metadata": {},
   "source": [
    "### ========== Question 2.5 ==========\n",
    "Now -as always- we want to perform some exploratory data analysis. Remember that our task is to predict `ERP` values, so it's a good idea to inspect individual scatter plots of the target variable (`ERP`) against our input features. For this purpose we will use once again seaborn's pairplot implementation.\n",
    "\n",
    "Create a series of [pairplots](https://seaborn.github.io/generated/seaborn.pairplot.html?highlight=pairplot#seaborn.pairplot) showing the pairwise relationship of `ERP` and the remaining attributes in the data. You can do so by specifying explicitly the `x_vars` and `y_vars` input arguments in the pairplot. *Hnt: Your final plot will consist of 6 subplots each contaning a scatter plot.*"
   ]
  },
  {
   "cell_type": "code",
   "execution_count": 172,
   "metadata": {},
   "outputs": [
    {
     "name": "stderr",
     "output_type": "stream",
     "text": [
      "C:\\Users\\Chris\\anaconda3\\envs\\py3iaml\\lib\\site-packages\\seaborn\\distributions.py:306: UserWarning: Dataset has 0 variance; skipping density estimate.\n",
      "  warnings.warn(msg, UserWarning)\n",
      "C:\\Users\\Chris\\anaconda3\\envs\\py3iaml\\lib\\site-packages\\seaborn\\distributions.py:306: UserWarning: Dataset has 0 variance; skipping density estimate.\n",
      "  warnings.warn(msg, UserWarning)\n",
      "C:\\Users\\Chris\\anaconda3\\envs\\py3iaml\\lib\\site-packages\\seaborn\\distributions.py:306: UserWarning: Dataset has 0 variance; skipping density estimate.\n",
      "  warnings.warn(msg, UserWarning)\n",
      "C:\\Users\\Chris\\anaconda3\\envs\\py3iaml\\lib\\site-packages\\seaborn\\distributions.py:306: UserWarning: Dataset has 0 variance; skipping density estimate.\n",
      "  warnings.warn(msg, UserWarning)\n",
      "C:\\Users\\Chris\\anaconda3\\envs\\py3iaml\\lib\\site-packages\\seaborn\\distributions.py:306: UserWarning: Dataset has 0 variance; skipping density estimate.\n",
      "  warnings.warn(msg, UserWarning)\n",
      "C:\\Users\\Chris\\anaconda3\\envs\\py3iaml\\lib\\site-packages\\seaborn\\distributions.py:306: UserWarning: Dataset has 0 variance; skipping density estimate.\n",
      "  warnings.warn(msg, UserWarning)\n"
     ]
    },
    {
     "data": {
      "text/plain": [
       "<seaborn.axisgrid.PairGrid at 0x2c364c6de50>"
      ]
     },
     "execution_count": 172,
     "metadata": {},
     "output_type": "execute_result"
    },
    {
     "data": {
      "image/png": "[encoded data removed]",
      "text/plain": [
       "<Figure size 1141.5x1080 with 42 Axes>"
      ]
     },
     "metadata": {
      "needs_background": "light"
     },
     "output_type": "display_data"
    }
   ],
   "source": [
    "# Your Code goes here:\n",
    "sns.pairplot(cpu_clean, hue=\"ERP\")"
   ]
  },
  {
   "cell_type": "markdown",
   "metadata": {},
   "source": [
    "### ========== Question 2.6 ==========\n",
    "* Do you think that ERP should be at least partially predictable from the input attributes?\n",
    "* Do any attributes exhibit significant correlations?"
   ]
  },
  {
   "cell_type": "markdown",
   "metadata": {},
   "source": [
    "***Your answer goes here:***\n",
    "\n",
    "yes, MMAX seems to correlate strongly with higher values correlating to higher values of ERP in extreme cases."
   ]
  },
  {
   "cell_type": "markdown",
   "metadata": {},
   "source": [
    "### ========== Question 2.7 ==========\n",
    "Now we have a feel for the data and we will try fitting a simple linear regression model. Similarly to what we did in the first part of the lab, we want to use cross-validation to evaluate the goodness of the fit.\n",
    "\n",
    "By using the `cpu_clean` dataset extract the raw values for the input features and the target variable and store them in two matrices, called `X` and `y` respectively. \n",
    "\n",
    "Then, split the dataset into training and testing sets by using a 75%-25% split (training/testing).\n",
    "\n",
    "Display the shapes of all matrices involved and double-check that all dimensionalities appear to be as expected."
   ]
  },
  {
   "cell_type": "code",
   "execution_count": 173,
   "metadata": {},
   "outputs": [
    {
     "name": "stdout",
     "output_type": "stream",
     "text": [
      "(156, 6) (21, 6) (156,) (21,)\n"
     ]
    }
   ],
   "source": [
    "# Your Code goes here:\n",
    "X = cpu_clean.drop(['ERP'], axis = 1)\n",
    "y = cpu_clean['ERP']\n",
    "\n",
    "X_train, X_test, y_train, y_test = train_test_split(X, y, train_size = 0.75, test_size=0.1, random_state=0)\n",
    "\n",
    "print(X_train.shape, X_test.shape, y_train.shape, y_test.shape)"
   ]
  },
  {
   "cell_type": "markdown",
   "metadata": {},
   "source": [
    "### ========== Question 2.8 ==========\n",
    "Fit a simple linear regressor by using the [`LinearRegression`](http://scikit-learn.org/0.24/modules/generated/sklearn.linear_model.LinearRegression.html) model in Scikit-learn. Report the training accuracy by using the `score` attribute. What does this represent?"
   ]
  },
  {
   "cell_type": "code",
   "execution_count": 176,
   "metadata": {},
   "outputs": [
    {
     "name": "stdout",
     "output_type": "stream",
     "text": [
      "0.9171677253243292\n"
     ]
    }
   ],
   "source": [
    "# Your Code goes here:\n",
    "lr = LinearRegression()\n",
    "lr = lr.fit(X_train, y_train)\n",
    "score = lr.score(X_train, y_train)\n",
    "\n",
    "print(score)"
   ]
  },
  {
   "cell_type": "markdown",
   "metadata": {},
   "source": [
    "***Your answer goes here:***\n",
    "\n",
    "Score in linear regression is a co-efficient denoting closeness as a percentage to the correct values using mean squared error as a measure of their combined residual for the whole training set."
   ]
  },
  {
   "cell_type": "markdown",
   "metadata": {},
   "source": [
    "### ========== Question 2.9 ==========\n",
    "Now report the testing accuracy by using the `score` attribute of the regressor as well as the `r2_score` metric. Confirm that these two yield identical results.\n",
    "\n",
    "How does the accuracy compare to the one reported on the training dataset? Do you think that your model does well on generalising on unseen data? "
   ]
  },
  {
   "cell_type": "code",
   "execution_count": 177,
   "metadata": {},
   "outputs": [
    {
     "name": "stdout",
     "output_type": "stream",
     "text": [
      "0.8822468100845926\n"
     ]
    }
   ],
   "source": [
    "# Your Code goes here:\n",
    "score = lr.score(X_test, y_test)\n",
    "\n",
    "print(score)"
   ]
  },
  {
   "cell_type": "markdown",
   "metadata": {},
   "source": [
    "***Your answer goes here:***\n",
    "\n",
    "The accuracy is marginally lower, but still close to the best possible score of 1.0, meaning it is reasonable to say that this model is generalising well."
   ]
  },
  {
   "cell_type": "markdown",
   "metadata": {},
   "source": [
    "### ========== Question 2.10 ==========\n",
    "Now we want to get a feel for how good the fit is, so we wil plot the measured values against the predicted ones. Make use of the function provided below which takes as input arguments the measured (`y_true`) and predicted (`y_pred`) values of a target variable and produces a scatter plot for the two by also including a straight line going through the origin. \n",
    "\n",
    "Where would you expect the points to be for a perfect fit?"
   ]
  },
  {
   "cell_type": "code",
   "execution_count": 179,
   "metadata": {},
   "outputs": [],
   "source": [
    "def fit_scatter(y_true, y_pred):\n",
    "    assert y_true.shape == y_pred.shape\n",
    "    fig, ax = plt.subplots()\n",
    "    ax.scatter(y_true, y_pred)\n",
    "    ax.plot([y_true.min(), y_true.max()], [y_true.min(), y_true.max()], 'k--', lw=4)\n",
    "    ax.set_xlabel('Measured')\n",
    "    ax.set_ylabel('Predicted')"
   ]
  },
  {
   "cell_type": "code",
   "execution_count": 180,
   "metadata": {},
   "outputs": [
    {
     "data": {
      "image/png": "[encoded data removed]",
      "text/plain": [
       "<Figure size 432x288 with 1 Axes>"
      ]
     },
     "metadata": {
      "needs_background": "light"
     },
     "output_type": "display_data"
    }
   ],
   "source": [
    "# Your Code goes here:\n",
    "predictions = lr.predict(X_test)\n",
    "fit_scatter(predictions, y_test)"
   ]
  },
  {
   "cell_type": "markdown",
   "metadata": {},
   "source": [
    "***Your answer goes here:***\n",
    "The perfect fit would exhibit the points being located close to the line denoting the true values."
   ]
  },
  {
   "cell_type": "markdown",
   "metadata": {},
   "source": [
    "### ========== Question 2.11 ==========\n",
    "Another way of assessing the performance of the model is to inspect the distribution of the errors. Make a histogram plot by using seaborn's `distplot` function. This will also show an estimate of the underlying distribution.\n",
    "\n",
    "Does it look like the errors are normally distributed? Would you trust the fit of the distribution on the graph? Explain why."
   ]
  },
  {
   "cell_type": "code",
   "execution_count": 181,
   "metadata": {},
   "outputs": [
    {
     "name": "stderr",
     "output_type": "stream",
     "text": [
      "C:\\Users\\Chris\\anaconda3\\envs\\py3iaml\\lib\\site-packages\\seaborn\\distributions.py:2557: FutureWarning: `distplot` is a deprecated function and will be removed in a future version. Please adapt your code to use either `displot` (a figure-level function with similar flexibility) or `histplot` (an axes-level function for histograms).\n",
      "  warnings.warn(msg, FutureWarning)\n"
     ]
    },
    {
     "data": {
      "text/plain": [
       "<AxesSubplot:ylabel='Density'>"
      ]
     },
     "execution_count": 181,
     "metadata": {},
     "output_type": "execute_result"
    },
    {
     "data": {
      "image/png": "[encoded data removed]",
      "text/plain": [
       "<Figure size 432x288 with 1 Axes>"
      ]
     },
     "metadata": {
      "needs_background": "light"
     },
     "output_type": "display_data"
    }
   ],
   "source": [
    "# Your Code goes here:\n",
    "sns.distplot(predictions)"
   ]
  },
  {
   "cell_type": "markdown",
   "metadata": {},
   "source": [
    "***Your answer goes here:***\n",
    "\n",
    "The errors do not look normally distributed. "
   ]
  },
  {
   "cell_type": "markdown",
   "metadata": {},
   "source": [
    "### ========== Question 2.12 ==========\n",
    "Above we deleted the vendor variable. However, we can use nominal attributes in regression by converting them to numeric, exactly in the same way that we did at the first part of this lab. \n",
    "\n",
    "Now, use the original `cpu` dataset and convert the `vendor` attribute to a numeric one by means of one-hot-encoding. Then train a linear regression model to the data and compare its performance to the one we had previously. Did adding the *binazired vendor* variable help? "
   ]
  },
  {
   "cell_type": "code",
   "execution_count": 188,
   "metadata": {},
   "outputs": [
    {
     "name": "stdout",
     "output_type": "stream",
     "text": [
      "(156, 36) (21, 36) (156,) (21,)\n",
      "0.9430804406521751 0.870312198179242\n"
     ]
    }
   ],
   "source": [
    "# Your Code goes here:\n",
    "X = pd.get_dummies(cpu.drop(['ERP'], axis = 1))\n",
    "y = cpu['ERP']\n",
    "\n",
    "X_train, X_test, y_train, y_test = train_test_split(X, y, train_size = 0.75, test_size=0.1, random_state=0)\n",
    "print(X_train.shape, X_test.shape, y_train.shape, y_test.shape)\n",
    "\n",
    "lr = LinearRegression()\n",
    "lr = lr.fit(X_train, y_train)\n",
    " \n",
    "print(lr.score(X_train, y_train), lr.score(X_test, y_test))"
   ]
  },
  {
   "cell_type": "markdown",
   "metadata": {},
   "source": [
    "***Your answer goes here:***\n",
    "\n",
    "Adding the binarized vendor variable actually led to a minor decrease in performance on the test set and a higher score on the training set, indicating a higher degree of overfitting."
   ]
  },
  {
   "cell_type": "code",
   "execution_count": null,
   "metadata": {},
   "outputs": [],
   "source": []
  }
 ],
 "metadata": {
  "kernelspec": {
   "display_name": "Python 3 (ipykernel)",
   "language": "python",
   "name": "python3"
  },
  "language_info": {
   "codemirror_mode": {
    "name": "ipython",
    "version": 3
   },
   "file_extension": ".py",
   "mimetype": "text/x-python",
   "name": "python",
   "nbconvert_exporter": "python",
   "pygments_lexer": "ipython3",
   "version": "3.9.2"
  }
 },
 "nbformat": 4,
 "nbformat_minor": 1
}
